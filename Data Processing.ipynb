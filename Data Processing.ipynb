{
 "cells": [
  {
   "cell_type": "code",
   "execution_count": 11,
   "metadata": {},
   "outputs": [],
   "source": [
    "import pandas as pd\n",
    "import numpy as np\n",
    "import json, pickle"
   ]
  },
  {
   "cell_type": "code",
   "execution_count": 12,
   "metadata": {},
   "outputs": [],
   "source": [
    "df = pd.read_csv(\"datafiles/metroAreaCondensed.csv\")\n",
    "df.rename({\"Unnamed: 0\":\"a\"}, axis=\"columns\", inplace=True)\n",
    "df = df.drop(columns=[\"a\"])\n",
    "\n",
    "# column_names = json.loads(open(\"Real Estate Scraping/GoogleCache/PayloadJSON-Zillow/data.json\").read()).keys()\n",
    "\n",
    "df[\"ZillowURL\"] = \"\"\n",
    "# for x in column_names:\n",
    "#     df[x] = \"\"\n",
    "    \n",
    "# df[\"taxAssessedValue\"] = \"\"\n",
    "# df[\"averageSchoolRating\"] = \"\"\n",
    "# df[\"description\"] = \"\"\n",
    "# df[\"price\"] = \"\"\n",
    "# df[\"priceForHDP\"] = \"\"\n",
    "# df[\"hoaFee\"] = \"\"\n",
    "# df[\"contactPhone\"] = \"\"\n",
    "# df[\"status\"] = \"NEW\"\n",
    "\n",
    "clustered_data = np.array_split(df, 23)\n",
    "for clustered_df in range(len(clustered_data)):\n",
    "    clustered_data[clustered_df] = clustered_data[clustered_df].reset_index()\n",
    "    pickle.dump(clustered_data[clustered_df], open(f'datafiles/metroAreaChunks/metroArea{clustered_df}.ft', 'wb'))"
   ]
  },
  {
   "cell_type": "code",
   "execution_count": 22,
   "metadata": {},
   "outputs": [],
   "source": [
    "df1 = pickle.load(open('datafiles/metroAreaChunks/metroArea0.ft', 'rb'))"
   ]
  },
  {
   "cell_type": "code",
   "execution_count": 23,
   "metadata": {},
   "outputs": [
    {
     "data": {
      "text/plain": [
       "107801"
      ]
     },
     "execution_count": 23,
     "metadata": {},
     "output_type": "execute_result"
    }
   ],
   "source": [
    "len(df)"
   ]
  },
  {
   "cell_type": "code",
   "execution_count": 24,
   "metadata": {},
   "outputs": [
    {
     "data": {
      "text/plain": [
       "(929, 3758)"
      ]
     },
     "execution_count": 24,
     "metadata": {},
     "output_type": "execute_result"
    }
   ],
   "source": [
    "len(df1[df1[\"ZillowURL\"] != \"\"]), len(df1[df1[\"ZillowURL\"] == \"\"])"
   ]
  },
  {
   "cell_type": "code",
   "execution_count": 26,
   "metadata": {},
   "outputs": [
    {
     "data": {
      "text/html": [
       "<div>\n",
       "<style scoped>\n",
       "    .dataframe tbody tr th:only-of-type {\n",
       "        vertical-align: middle;\n",
       "    }\n",
       "\n",
       "    .dataframe tbody tr th {\n",
       "        vertical-align: top;\n",
       "    }\n",
       "\n",
       "    .dataframe thead th {\n",
       "        text-align: right;\n",
       "    }\n",
       "</style>\n",
       "<table border=\"1\" class=\"dataframe\">\n",
       "  <thead>\n",
       "    <tr style=\"text-align: right;\">\n",
       "      <th></th>\n",
       "      <th>index</th>\n",
       "      <th>totPurchaseAmt</th>\n",
       "      <th>street1</th>\n",
       "      <th>zip</th>\n",
       "      <th>property</th>\n",
       "      <th>ZillowURL</th>\n",
       "    </tr>\n",
       "  </thead>\n",
       "  <tbody>\n",
       "    <tr>\n",
       "      <th>28</th>\n",
       "      <td>28</td>\n",
       "      <td>200000.0</td>\n",
       "      <td>23-30-24-13-0044</td>\n",
       "      <td>55432.0</td>\n",
       "      <td>23-30-24-13-0044 55432</td>\n",
       "      <td>None</td>\n",
       "    </tr>\n",
       "    <tr>\n",
       "      <th>322</th>\n",
       "      <td>322</td>\n",
       "      <td>153000.0</td>\n",
       "      <td>XXXX Loyola Street Northeast</td>\n",
       "      <td>0.0</td>\n",
       "      <td>XXXX Loyola Street Northeast 00000</td>\n",
       "      <td>None</td>\n",
       "    </tr>\n",
       "    <tr>\n",
       "      <th>626</th>\n",
       "      <td>626</td>\n",
       "      <td>363000.0</td>\n",
       "      <td>2850 93rd Ave NE</td>\n",
       "      <td>55449.0</td>\n",
       "      <td>2850 93rd Ave NE 55449</td>\n",
       "      <td>None</td>\n",
       "    </tr>\n",
       "    <tr>\n",
       "      <th>627</th>\n",
       "      <td>627</td>\n",
       "      <td>359000.0</td>\n",
       "      <td>20591 Washington Street Northeast</td>\n",
       "      <td>55011.0</td>\n",
       "      <td>20591 Washington Street Northeast 55011</td>\n",
       "      <td>None</td>\n",
       "    </tr>\n",
       "  </tbody>\n",
       "</table>\n",
       "</div>"
      ],
      "text/plain": [
       "     index  totPurchaseAmt                            street1      zip  \\\n",
       "28      28        200000.0                   23-30-24-13-0044  55432.0   \n",
       "322    322        153000.0       XXXX Loyola Street Northeast      0.0   \n",
       "626    626        363000.0                   2850 93rd Ave NE  55449.0   \n",
       "627    627        359000.0  20591 Washington Street Northeast  55011.0   \n",
       "\n",
       "                                    property ZillowURL  \n",
       "28                    23-30-24-13-0044 55432      None  \n",
       "322       XXXX Loyola Street Northeast 00000      None  \n",
       "626                   2850 93rd Ave NE 55449      None  \n",
       "627  20591 Washington Street Northeast 55011      None  "
      ]
     },
     "execution_count": 26,
     "metadata": {},
     "output_type": "execute_result"
    }
   ],
   "source": [
    "df1[df1[\"ZillowURL\"] == \"None\"]"
   ]
  },
  {
   "cell_type": "code",
   "execution_count": null,
   "metadata": {},
   "outputs": [],
   "source": []
  }
 ],
 "metadata": {
  "kernelspec": {
   "display_name": "Python 3",
   "language": "python",
   "name": "python3"
  },
  "language_info": {
   "codemirror_mode": {
    "name": "ipython",
    "version": 3
   },
   "file_extension": ".py",
   "mimetype": "text/x-python",
   "name": "python",
   "nbconvert_exporter": "python",
   "pygments_lexer": "ipython3",
   "version": "3.7.6"
  }
 },
 "nbformat": 4,
 "nbformat_minor": 4
}
