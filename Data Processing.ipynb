{
 "cells": [
  {
   "cell_type": "code",
   "execution_count": 1,
   "metadata": {},
   "outputs": [],
   "source": [
    "import pandas as pd\n",
    "import numpy as np\n",
    "import json, pickle"
   ]
  },
  {
   "cell_type": "code",
   "execution_count": 2,
   "metadata": {},
   "outputs": [],
   "source": [
    "df = pd.read_csv(\"datafiles/metroAreaCondensed.csv\")\n",
    "df.rename({\"Unnamed: 0\":\"a\"}, axis=\"columns\", inplace=True)\n",
    "df = df.drop(columns=[\"a\"])\n",
    "\n",
    "column_names = json.loads(open(\"Real Estate Scraping/GoogleCache/PayloadJSON-Zillow/data.json\").read()).keys()\n",
    "\n",
    "for x in column_names:\n",
    "    df[x] = \"\"\n",
    "    \n",
    "df[\"taxAssessedValue\"] = \"\"\n",
    "df[\"averageSchoolRating\"] = \"\"\n",
    "df[\"description\"] = \"\"\n",
    "df[\"price\"] = \"\"\n",
    "df[\"priceForHDP\"] = \"\"\n",
    "df[\"hoaFee\"] = \"\"\n",
    "df[\"contactPhone\"] = \"\"\n",
    "df[\"status\"] = \"NEW\"\n",
    "\n",
    "clustered_data = np.array_split(df, 23)\n",
    "for clustered_df in range(len(clustered_data)):\n",
    "    clustered_data[clustered_df] = clustered_data[clustered_df].reset_index()\n",
    "    pickle.dump(clustered_data[clustered_df], open(f'datafiles/metroAreaChunks/metroArea{clustered_df}.ft', 'wb'))"
   ]
  },
  {
   "cell_type": "code",
   "execution_count": 13,
   "metadata": {},
   "outputs": [],
   "source": [
    "df1 = pickle.load(open('datafiles/metroAreaChunks/metroArea0.ft', 'rb'))"
   ]
  },
  {
   "cell_type": "code",
   "execution_count": 14,
   "metadata": {},
   "outputs": [
    {
     "data": {
      "text/plain": [
       "107801"
      ]
     },
     "execution_count": 14,
     "metadata": {},
     "output_type": "execute_result"
    }
   ],
   "source": [
    "len(df)"
   ]
  },
  {
   "cell_type": "code",
   "execution_count": 15,
   "metadata": {},
   "outputs": [
    {
     "data": {
      "text/plain": [
       "13"
      ]
     },
     "execution_count": 15,
     "metadata": {},
     "output_type": "execute_result"
    }
   ],
   "source": [
    "len(df1[df1[\"zpid\"] != \"\"])"
   ]
  },
  {
   "cell_type": "code",
   "execution_count": 12,
   "metadata": {},
   "outputs": [
    {
     "data": {
      "text/html": [
       "<div>\n",
       "<style scoped>\n",
       "    .dataframe tbody tr th:only-of-type {\n",
       "        vertical-align: middle;\n",
       "    }\n",
       "\n",
       "    .dataframe tbody tr th {\n",
       "        vertical-align: top;\n",
       "    }\n",
       "\n",
       "    .dataframe thead th {\n",
       "        text-align: right;\n",
       "    }\n",
       "</style>\n",
       "<table border=\"1\" class=\"dataframe\">\n",
       "  <thead>\n",
       "    <tr style=\"text-align: right;\">\n",
       "      <th></th>\n",
       "      <th>index</th>\n",
       "      <th>totPurchaseAmt</th>\n",
       "      <th>street1</th>\n",
       "      <th>zip</th>\n",
       "      <th>property</th>\n",
       "      <th>zpid</th>\n",
       "      <th>streetAddress</th>\n",
       "      <th>zipcode</th>\n",
       "      <th>city</th>\n",
       "      <th>state</th>\n",
       "      <th>...</th>\n",
       "      <th>currency</th>\n",
       "      <th>country</th>\n",
       "      <th>taxAssessedValue</th>\n",
       "      <th>streetAddressOnly</th>\n",
       "      <th>unit</th>\n",
       "      <th>averageSchoolRating</th>\n",
       "      <th>description</th>\n",
       "      <th>price</th>\n",
       "      <th>priceForHDP</th>\n",
       "      <th>hoaFee</th>\n",
       "    </tr>\n",
       "  </thead>\n",
       "  <tbody>\n",
       "    <tr>\n",
       "      <th>0</th>\n",
       "      <td>0</td>\n",
       "      <td>152000.0</td>\n",
       "      <td>538 78th Avenue NE</td>\n",
       "      <td>55432.0</td>\n",
       "      <td>538 78th Avenue NE 55432</td>\n",
       "      <td>1475959</td>\n",
       "      <td>538 78th Ave NE</td>\n",
       "      <td>55432</td>\n",
       "      <td>Spring Lake Park</td>\n",
       "      <td>MN</td>\n",
       "      <td>...</td>\n",
       "      <td>USD</td>\n",
       "      <td>USA</td>\n",
       "      <td>-1</td>\n",
       "      <td>538 78th Ave NE</td>\n",
       "      <td></td>\n",
       "      <td>4</td>\n",
       "      <td>Just move in! End unit, deck, double garage, w...</td>\n",
       "      <td>152000</td>\n",
       "      <td>152000</td>\n",
       "      <td>230</td>\n",
       "    </tr>\n",
       "    <tr>\n",
       "      <th>1</th>\n",
       "      <td>1</td>\n",
       "      <td>198000.0</td>\n",
       "      <td>14649 Iodine Ct NW</td>\n",
       "      <td>55303.0</td>\n",
       "      <td>14649 Iodine Ct NW 55303</td>\n",
       "      <td>1539563</td>\n",
       "      <td>14649 Iodine Ct NW</td>\n",
       "      <td>55303</td>\n",
       "      <td>Ramsey</td>\n",
       "      <td>MN</td>\n",
       "      <td>...</td>\n",
       "      <td>USD</td>\n",
       "      <td>USA</td>\n",
       "      <td>-1</td>\n",
       "      <td>14649 Iodine Ct NW</td>\n",
       "      <td></td>\n",
       "      <td>5.33333</td>\n",
       "      <td>14649 Iodine Ct NW, Ramsey, MN is a single fam...</td>\n",
       "      <td>198000</td>\n",
       "      <td>198000</td>\n",
       "      <td></td>\n",
       "    </tr>\n",
       "    <tr>\n",
       "      <th>3</th>\n",
       "      <td>3</td>\n",
       "      <td>130000.0</td>\n",
       "      <td>10921 Dogwood Street</td>\n",
       "      <td>55448.0</td>\n",
       "      <td>10921 Dogwood Street 55448</td>\n",
       "      <td>1503295</td>\n",
       "      <td>10921 Dogwood St NW</td>\n",
       "      <td>55448</td>\n",
       "      <td>Coon Rapids</td>\n",
       "      <td>MN</td>\n",
       "      <td>...</td>\n",
       "      <td>USD</td>\n",
       "      <td>USA</td>\n",
       "      <td>-1</td>\n",
       "      <td>10921 Dogwood St NW</td>\n",
       "      <td></td>\n",
       "      <td>5.66667</td>\n",
       "      <td>10921 Dogwood St NW, Coon Rapids, MN is a sing...</td>\n",
       "      <td>130000</td>\n",
       "      <td>130000</td>\n",
       "      <td></td>\n",
       "    </tr>\n",
       "    <tr>\n",
       "      <th>4</th>\n",
       "      <td>4</td>\n",
       "      <td>415000.0</td>\n",
       "      <td>16931 Helium Street NW</td>\n",
       "      <td>55303.0</td>\n",
       "      <td>16931 Helium Street NW 55303</td>\n",
       "      <td>1500884</td>\n",
       "      <td>16931 Helium St NW</td>\n",
       "      <td>55303</td>\n",
       "      <td>Ramsey</td>\n",
       "      <td>MN</td>\n",
       "      <td>...</td>\n",
       "      <td>USD</td>\n",
       "      <td>USA</td>\n",
       "      <td>-1</td>\n",
       "      <td>16931 Helium St NW</td>\n",
       "      <td></td>\n",
       "      <td>6.33333</td>\n",
       "      <td>Stunning walk to Rum River and Creek running t...</td>\n",
       "      <td>415000</td>\n",
       "      <td>415000</td>\n",
       "      <td></td>\n",
       "    </tr>\n",
       "  </tbody>\n",
       "</table>\n",
       "<p>4 rows × 59 columns</p>\n",
       "</div>"
      ],
      "text/plain": [
       "   index  totPurchaseAmt                 street1      zip  \\\n",
       "0      0        152000.0      538 78th Avenue NE  55432.0   \n",
       "1      1        198000.0      14649 Iodine Ct NW  55303.0   \n",
       "3      3        130000.0    10921 Dogwood Street  55448.0   \n",
       "4      4        415000.0  16931 Helium Street NW  55303.0   \n",
       "\n",
       "                       property     zpid        streetAddress zipcode  \\\n",
       "0      538 78th Avenue NE 55432  1475959      538 78th Ave NE   55432   \n",
       "1      14649 Iodine Ct NW 55303  1539563   14649 Iodine Ct NW   55303   \n",
       "3    10921 Dogwood Street 55448  1503295  10921 Dogwood St NW   55448   \n",
       "4  16931 Helium Street NW 55303  1500884   16931 Helium St NW   55303   \n",
       "\n",
       "               city state  ... currency country taxAssessedValue  \\\n",
       "0  Spring Lake Park    MN  ...      USD     USA               -1   \n",
       "1            Ramsey    MN  ...      USD     USA               -1   \n",
       "3       Coon Rapids    MN  ...      USD     USA               -1   \n",
       "4            Ramsey    MN  ...      USD     USA               -1   \n",
       "\n",
       "     streetAddressOnly unit averageSchoolRating  \\\n",
       "0      538 78th Ave NE                        4   \n",
       "1   14649 Iodine Ct NW                  5.33333   \n",
       "3  10921 Dogwood St NW                  5.66667   \n",
       "4   16931 Helium St NW                  6.33333   \n",
       "\n",
       "                                         description   price priceForHDP  \\\n",
       "0  Just move in! End unit, deck, double garage, w...  152000      152000   \n",
       "1  14649 Iodine Ct NW, Ramsey, MN is a single fam...  198000      198000   \n",
       "3  10921 Dogwood St NW, Coon Rapids, MN is a sing...  130000      130000   \n",
       "4  Stunning walk to Rum River and Creek running t...  415000      415000   \n",
       "\n",
       "  hoaFee  \n",
       "0    230  \n",
       "1         \n",
       "3         \n",
       "4         \n",
       "\n",
       "[4 rows x 59 columns]"
      ]
     },
     "execution_count": 12,
     "metadata": {},
     "output_type": "execute_result"
    }
   ],
   "source": [
    "df1[df1[\"zpid\"] != \"\"]"
   ]
  },
  {
   "cell_type": "code",
   "execution_count": null,
   "metadata": {},
   "outputs": [],
   "source": []
  }
 ],
 "metadata": {
  "kernelspec": {
   "display_name": "Python 3",
   "language": "python",
   "name": "python3"
  },
  "language_info": {
   "codemirror_mode": {
    "name": "ipython",
    "version": 3
   },
   "file_extension": ".py",
   "mimetype": "text/x-python",
   "name": "python",
   "nbconvert_exporter": "python",
   "pygments_lexer": "ipython3",
   "version": "3.7.6"
  }
 },
 "nbformat": 4,
 "nbformat_minor": 4
}
