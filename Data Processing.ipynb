{
 "cells": [
  {
   "cell_type": "code",
   "execution_count": 1,
   "metadata": {},
   "outputs": [],
   "source": [
    "import pandas as pd\n",
    "import numpy as np\n",
    "import json\n",
    "import pickle"
   ]
  },
  {
   "cell_type": "code",
   "execution_count": 6,
   "metadata": {},
   "outputs": [],
   "source": [
    "df = pd.read_csv(\"datafiles/metroAreaCondensed.csv\")\n",
    "df.rename({\"Unnamed: 0\":\"a\"}, axis=\"columns\", inplace=True)\n",
    "df = df.drop(columns=[\"a\"])\n",
    "\n",
    "column_names = json.loads(open(\"Real Estate Scraping/GoogleCache/PayloadJSON-Zillow/data.json\").read()).keys()\n",
    "\n",
    "for x in column_names:\n",
    "    df[x] = \"\"\n",
    "    \n",
    "df[\"taxAssessedValue\"] = \"\"\n",
    "df[\"averageSchoolRating\"] = \"\"\n",
    "df[\"description\"] = \"\"\n",
    "df[\"price\"] = \"\"\n",
    "df[\"priceForHDP\"] = \"\"\n",
    "df[\"hoaFee\"] = \"\"\n",
    "\n",
    "clustered_data = np.array_split(df, 23)\n",
    "for clustered_df in range(len(clustered_data)):\n",
    "    clustered_data[clustered_df] = clustered_data[clustered_df].reset_index()\n",
    "    pickle.dump(clustered_data[clustered_df], open(f'datafiles/metroAreaChunks/metroArea{clustered_df}.ft', 'wb'))"
   ]
  },
  {
   "cell_type": "code",
   "execution_count": 7,
   "metadata": {},
   "outputs": [],
   "source": [
    "df1 = pickle.load(open('datafiles/metroAreaChunks/metroArea0.ft', 'rb'))"
   ]
  },
  {
   "cell_type": "code",
   "execution_count": 8,
   "metadata": {},
   "outputs": [
    {
     "data": {
      "text/plain": [
       "107801"
      ]
     },
     "execution_count": 8,
     "metadata": {},
     "output_type": "execute_result"
    }
   ],
   "source": [
    "len(df)"
   ]
  },
  {
   "cell_type": "code",
   "execution_count": 9,
   "metadata": {},
   "outputs": [
    {
     "data": {
      "text/plain": [
       "0"
      ]
     },
     "execution_count": 9,
     "metadata": {},
     "output_type": "execute_result"
    }
   ],
   "source": [
    "len(df1[df1[\"zpid\"] != \"\"])"
   ]
  },
  {
   "cell_type": "code",
   "execution_count": 10,
   "metadata": {},
   "outputs": [
    {
     "data": {
      "text/html": [
       "<div>\n",
       "<style scoped>\n",
       "    .dataframe tbody tr th:only-of-type {\n",
       "        vertical-align: middle;\n",
       "    }\n",
       "\n",
       "    .dataframe tbody tr th {\n",
       "        vertical-align: top;\n",
       "    }\n",
       "\n",
       "    .dataframe thead th {\n",
       "        text-align: right;\n",
       "    }\n",
       "</style>\n",
       "<table border=\"1\" class=\"dataframe\">\n",
       "  <thead>\n",
       "    <tr style=\"text-align: right;\">\n",
       "      <th></th>\n",
       "      <th>index</th>\n",
       "      <th>totPurchaseAmt</th>\n",
       "      <th>street1</th>\n",
       "      <th>zip</th>\n",
       "      <th>property</th>\n",
       "      <th>zpid</th>\n",
       "      <th>streetAddress</th>\n",
       "      <th>zipcode</th>\n",
       "      <th>city</th>\n",
       "      <th>state</th>\n",
       "      <th>...</th>\n",
       "      <th>currency</th>\n",
       "      <th>country</th>\n",
       "      <th>taxAssessedValue</th>\n",
       "      <th>streetAddressOnly</th>\n",
       "      <th>unit</th>\n",
       "      <th>averageSchoolRating</th>\n",
       "      <th>description</th>\n",
       "      <th>price</th>\n",
       "      <th>priceForHDP</th>\n",
       "      <th>hoaFee</th>\n",
       "    </tr>\n",
       "  </thead>\n",
       "  <tbody>\n",
       "  </tbody>\n",
       "</table>\n",
       "<p>0 rows × 59 columns</p>\n",
       "</div>"
      ],
      "text/plain": [
       "Empty DataFrame\n",
       "Columns: [index, totPurchaseAmt, street1, zip, property, zpid, streetAddress, zipcode, city, state, latitude, longitude, dateSold, bathrooms, bedrooms, livingArea, yearBuilt, lotSize, homeType, homeStatus, photoCount, imageLink, daysOnZillow, isFeatured, shouldHighlight, brokerId, zestimate, rentZestimate, listing_sub_type, priceReduction, isUnmappable, rentalPetsFlags, mediumImageLink, isPreforeclosureAuction, homeStatusForHDP, festimate, isListingOwnedByCurrentSignedInAgent, isListingClaimedByCurrentSignedInUser, hiResImageLink, watchImageLink, tvImageLink, tvCollectionImageLink, tvHighResImageLink, zillowHasRightsToImages, desktopWebHdpImageLink, isNonOwnerOccupied, hideZestimate, isPremierBuilder, isZillowOwned, currency, country, taxAssessedValue, streetAddressOnly, unit, averageSchoolRating, description, price, priceForHDP, hoaFee]\n",
       "Index: []\n",
       "\n",
       "[0 rows x 59 columns]"
      ]
     },
     "execution_count": 10,
     "metadata": {},
     "output_type": "execute_result"
    }
   ],
   "source": [
    "df1[df1[\"zpid\"] != \"\"]"
   ]
  },
  {
   "cell_type": "code",
   "execution_count": null,
   "metadata": {},
   "outputs": [],
   "source": []
  }
 ],
 "metadata": {
  "kernelspec": {
   "display_name": "Python 3",
   "language": "python",
   "name": "python3"
  },
  "language_info": {
   "codemirror_mode": {
    "name": "ipython",
    "version": 3
   },
   "file_extension": ".py",
   "mimetype": "text/x-python",
   "name": "python",
   "nbconvert_exporter": "python",
   "pygments_lexer": "ipython3",
   "version": "3.7.6"
  }
 },
 "nbformat": 4,
 "nbformat_minor": 4
}
