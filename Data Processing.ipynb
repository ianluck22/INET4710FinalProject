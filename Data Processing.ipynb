{
 "cells": [
  {
   "cell_type": "code",
   "execution_count": 1,
   "metadata": {},
   "outputs": [],
   "source": [
    "import pandas as pd\n",
    "import numpy as np\n",
    "import json, pickle"
   ]
  },
  {
   "cell_type": "code",
   "execution_count": 12,
   "metadata": {},
   "outputs": [],
   "source": [
    "# df = pd.read_csv(\"datafiles/metroAreaCondensed.csv\")\n",
    "# df.rename({\"Unnamed: 0\":\"a\"}, axis=\"columns\", inplace=True)\n",
    "# df = df.drop(columns=[\"a\"])\n",
    "\n",
    "# # column_names = json.loads(open(\"Real Estate Scraping/GoogleCache/PayloadJSON-Zillow/data.json\").read()).keys()\n",
    "\n",
    "# df[\"ZillowURL\"] = \"\"\n",
    "# # for x in column_names:\n",
    "# #     df[x] = \"\"\n",
    "    \n",
    "# # df[\"taxAssessedValue\"] = \"\"\n",
    "# # df[\"averageSchoolRating\"] = \"\"\n",
    "# # df[\"description\"] = \"\"\n",
    "# # df[\"price\"] = \"\"\n",
    "# # df[\"priceForHDP\"] = \"\"\n",
    "# # df[\"hoaFee\"] = \"\"\n",
    "# # df[\"contactPhone\"] = \"\"\n",
    "# # df[\"status\"] = \"NEW\"\n",
    "\n",
    "# clustered_data = np.array_split(df, 23)\n",
    "# for clustered_df in range(len(clustered_data)):\n",
    "#     clustered_data[clustered_df] = clustered_data[clustered_df].reset_index()\n",
    "#     pickle.dump(clustered_data[clustered_df], open(f'datafiles/metroAreaChunks/metroArea{clustered_df}.ft', 'wb'))"
   ]
  },
  {
   "cell_type": "code",
   "execution_count": 16,
   "metadata": {},
   "outputs": [
    {
     "ename": "FileNotFoundError",
     "evalue": "[Errno 2] No such file or directory: 'datafiles/BingScraped/metroArea16.ft'",
     "output_type": "error",
     "traceback": [
      "\u001b[1;31m---------------------------------------------------------------------------\u001b[0m",
      "\u001b[1;31mFileNotFoundError\u001b[0m                         Traceback (most recent call last)",
      "\u001b[1;32m<ipython-input-16-c07304d00fbb>\u001b[0m in \u001b[0;36m<module>\u001b[1;34m\u001b[0m\n\u001b[0;32m      1\u001b[0m \u001b[0mFILE_NUMBER\u001b[0m \u001b[1;33m=\u001b[0m \u001b[1;36m16\u001b[0m\u001b[1;33m\u001b[0m\u001b[1;33m\u001b[0m\u001b[0m\n\u001b[0;32m      2\u001b[0m \u001b[1;33m\u001b[0m\u001b[0m\n\u001b[1;32m----> 3\u001b[1;33m \u001b[0mdf\u001b[0m \u001b[1;33m=\u001b[0m \u001b[0mpickle\u001b[0m\u001b[1;33m.\u001b[0m\u001b[0mload\u001b[0m\u001b[1;33m(\u001b[0m\u001b[0mopen\u001b[0m\u001b[1;33m(\u001b[0m\u001b[1;34mf'datafiles/BingScraped/metroArea{FILE_NUMBER}.ft'\u001b[0m\u001b[1;33m,\u001b[0m \u001b[1;34m'rb'\u001b[0m\u001b[1;33m)\u001b[0m\u001b[1;33m)\u001b[0m\u001b[1;33m\u001b[0m\u001b[1;33m\u001b[0m\u001b[0m\n\u001b[0m\u001b[0;32m      4\u001b[0m \u001b[1;33m\u001b[0m\u001b[0m\n\u001b[0;32m      5\u001b[0m \u001b[0mcolumn_names\u001b[0m \u001b[1;33m=\u001b[0m \u001b[0mjson\u001b[0m\u001b[1;33m.\u001b[0m\u001b[0mloads\u001b[0m\u001b[1;33m(\u001b[0m\u001b[0mopen\u001b[0m\u001b[1;33m(\u001b[0m\u001b[1;34m\"Real Estate Scraping/PayloadJSON-Zillow/data.json\"\u001b[0m\u001b[1;33m)\u001b[0m\u001b[1;33m.\u001b[0m\u001b[0mread\u001b[0m\u001b[1;33m(\u001b[0m\u001b[1;33m)\u001b[0m\u001b[1;33m)\u001b[0m\u001b[1;33m.\u001b[0m\u001b[0mkeys\u001b[0m\u001b[1;33m(\u001b[0m\u001b[1;33m)\u001b[0m\u001b[1;33m\u001b[0m\u001b[1;33m\u001b[0m\u001b[0m\n",
      "\u001b[1;31mFileNotFoundError\u001b[0m: [Errno 2] No such file or directory: 'datafiles/BingScraped/metroArea16.ft'"
     ]
    }
   ],
   "source": [
    "FILE_NUMBER = 16\n",
    "\n",
    "df = pickle.load(open(f'datafiles/BingScraped/metroArea{FILE_NUMBER}.ft', 'rb'))\n",
    "\n",
    "column_names = json.loads(open(\"Real Estate Scraping/PayloadJSON-Zillow/data.json\").read()).keys()\n",
    "\n",
    "for x in column_names:\n",
    "    df[x] = \"\"\n",
    "\n",
    "df = df[df[\"ZillowURL\"] != \"None\"]\n",
    "df = df[df[\"ZillowURL\"] != \"\"]\n",
    "\n",
    "    \n",
    "df[\"taxAssessedValue\"] = \"\"\n",
    "df[\"averageSchoolRating\"] = \"\"\n",
    "df[\"description\"] = \"\"\n",
    "df[\"price\"] = \"\"\n",
    "df[\"priceForHDP\"] = \"\"\n",
    "df[\"hoaFee\"] = \"\"\n",
    "df[\"contactPhone\"] = \"\"\n",
    "df[\"status\"] = \"NEW\"\n",
    "\n",
    "pickle.dump(df, open(f'datafiles/BingScraped/metroArea{FILE_NUMBER}.ft', 'wb'))\n",
    "\n",
    "df"
   ]
  },
  {
   "cell_type": "code",
   "execution_count": 10,
   "metadata": {},
   "outputs": [
    {
     "name": "stdout",
     "output_type": "stream",
     "text": [
      "1187 3500\n",
      "2\n"
     ]
    }
   ],
   "source": [
    "df1 = pickle.load(open('datafiles/metroAreaChunks/metroArea11.ft', 'rb'))\n",
    "\n",
    "print(len(df1[df1[\"ZillowURL\"] != \"\"]), len(df1[df1[\"ZillowURL\"] == \"\"]))\n",
    "print(len(df1[df1[\"ZillowURL\"] == \"None\"]))"
   ]
  },
  {
   "cell_type": "code",
   "execution_count": 2,
   "metadata": {},
   "outputs": [
    {
     "name": "stdout",
     "output_type": "stream",
     "text": [
      "0 4009\n",
      "1 3785\n",
      "2 2074\n",
      "3 624\n",
      "4 970\n",
      "5 845\n",
      "6 919\n",
      "7 797\n",
      "8 804\n",
      "9 712\n",
      "10 713\n"
     ]
    }
   ],
   "source": [
    "file_numbers = [0, 1, 2, 3, 4, 5, 6, 7, 8, 9, 10]\n",
    "df = pd.DataFrame()\n",
    "for x in file_numbers:\n",
    "    df1 = pickle.load(open(f'datafiles/BingScraped/metroArea{x}.ft', 'rb'))\n",
    "    df = pd.concat([df, df1[df1[\"status\"] == \"Completed\"]], ignore_index=True)\n",
    "    print(x, len(df1[df1[\"status\"] == \"Completed\"]))\n",
    "    \n",
    "df.to_csv(\"data.csv\")"
   ]
  },
  {
   "cell_type": "code",
   "execution_count": 3,
   "metadata": {},
   "outputs": [
    {
     "data": {
      "text/plain": [
       "16252"
      ]
     },
     "execution_count": 3,
     "metadata": {},
     "output_type": "execute_result"
    }
   ],
   "source": [
    "len(df)"
   ]
  },
  {
   "cell_type": "code",
   "execution_count": null,
   "metadata": {},
   "outputs": [],
   "source": [
    "0 4009\n",
    "1 3785\n",
    "2 1079\n",
    "3 591\n",
    "4 638\n",
    "5 588\n",
    "6 239\n",
    "7 557\n",
    "8 552\n",
    "9 499\n",
    "10 302"
   ]
  }
 ],
 "metadata": {
  "kernelspec": {
   "display_name": "Python 3",
   "language": "python",
   "name": "python3"
  },
  "language_info": {
   "codemirror_mode": {
    "name": "ipython",
    "version": 3
   },
   "file_extension": ".py",
   "mimetype": "text/x-python",
   "name": "python",
   "nbconvert_exporter": "python",
   "pygments_lexer": "ipython3",
   "version": "3.7.6"
  }
 },
 "nbformat": 4,
 "nbformat_minor": 4
}
