{
 "cells": [
  {
   "cell_type": "code",
   "execution_count": 13,
   "metadata": {
    "collapsed": false
   },
   "outputs": [],
   "source": [
    "import pandas as pd \n",
    "import numpy as np\n",
    "import matplotlib.pyplot as plt\n",
    "pd.set_option('display.max_columns', None)\n",
    "\n",
    "from sklearn import linear_model, metrics, svm, neighbors, gaussian_process, ensemble, neural_network\n",
    "from sklearn.model_selection import train_test_split\n",
    "from sklearn.preprocessing import LabelEncoder, OneHotEncoder, StandardScaler\n",
    "from sklearn.metrics import mean_squared_error, r2_score\n",
    "from sklearn.tree import DecisionTreeRegressor\n",
    "\n",
    "from PIL import Image\n",
    "from tqdm import tqdm\n",
    "from pandas_profiling import ProfileReport\n",
    "\n",
    "import keras, re, string\n",
    "from keras import applications\n",
    "from keras.models import Sequential\n",
    "from keras.layers import Dense, Dropout, Flatten, Conv2D, MaxPooling2D\n",
    "from keras.layers.normalization import BatchNormalization\n",
    "from keras.utils import to_categorical\n",
    "\n",
    "from nltk.sentiment.vader import SentimentIntensityAnalyzer"
   ]
  },
  {
   "cell_type": "code",
   "execution_count": 34,
   "metadata": {
    "collapsed": true
   },
   "outputs": [],
   "source": [
    "df = pd.read_csv(\"../data.csv\")"
   ]
  },
  {
   "cell_type": "code",
   "execution_count": 35,
   "metadata": {
    "collapsed": false
   },
   "outputs": [],
   "source": [
    "df = df[df[\"totPurchaseAmt\"] >= 50000]\n",
    "df = df[df[\"totPurchaseAmt\"] <= 5000000]\n",
    "\n",
    "df = df[df[\"yearBuilt\"] <= 2020]\n",
    "df = df[df[\"yearBuilt\"] >= 1940]\n",
    "\n",
    "df = df[df[\"zipcode\"] <= 56763]\n",
    "df = df[df[\"zipcode\"] >= 55001]\n",
    "\n",
    "df = df[df[\"livingArea\"] <= 30000]\n",
    "df = df[df[\"livingArea\"] >= 1000]\n",
    "\n",
    "df.drop_duplicates(\"mediumImageLink\", keep = \"first\", inplace = True)\n",
    "\n",
    "df = df[\n",
    "    [\"totPurchaseAmt\", \"bathrooms\", \"latitude\", \"longitude\",\n",
    "     \"bedrooms\", \"yearBuilt\", \"livingArea\",\n",
    "     \"averageSchoolRating\", \"zipcode\", \"description\"]\n",
    "]\n",
    "\n",
    "# df = pd.get_dummies(data=df, columns=[\"bathrooms\", \"bedrooms\", \"yearBuilt\", \"zipcode\"])\n",
    "df.dropna(inplace=True)"
   ]
  },
  {
   "cell_type": "code",
   "execution_count": 36,
   "metadata": {
    "collapsed": false
   },
   "outputs": [],
   "source": [
    "# profile = ProfileReport(df, title='Pandas Profiling Report', minimal=True, html={'style':{'full_width':True}})\n",
    "# profile.to_widgets()"
   ]
  },
  {
   "cell_type": "code",
   "execution_count": 37,
   "metadata": {
    "collapsed": false
   },
   "outputs": [],
   "source": [
    "def remove_mypunct(corpus):\n",
    "\n",
    "    corpus = map(lambda x: re.sub(r\"(#|@|http)\\S+\", \"\", x), corpus) #get rid of hashtags \n",
    "    corpus = map(lambda x: re.sub(r\"(\\t|\\n|\\v|…|“|”)\", \"\", x), corpus) #get rid of whitesape\n",
    "    corpus = map(lambda x:  re.sub(r\"\"\"\\w*\\d\\w*\"\"\", ' ', x.lower()), corpus) #get rid of numbers\n",
    "    punc_re = re.compile('[%s]' % re.escape(string.punctuation))\n",
    "    corpus = map(lambda x: punc_re.sub(' ', x), corpus)\n",
    "    corpus = map(lambda x: re.sub('[\\W_]+', \" \", x), corpus) #get rid of emojis\n",
    "    \n",
    "    return list(corpus)\n",
    "\n",
    "sid = SentimentIntensityAnalyzer()\n",
    "score_tuples = []\n",
    "score = []\n",
    "\n",
    "for i in df.index.values:\n",
    "    clean_house = remove_mypunct([df.description[i]])\n",
    "    ss = sid.polarity_scores(clean_house[0])\n",
    "    df.at[i, 'sentiment'] = float(ss['compound'])\n",
    "\n",
    "df = df.drop(\"description\", axis=1)"
   ]
  },
  {
   "cell_type": "code",
   "execution_count": 38,
   "metadata": {
    "collapsed": false
   },
   "outputs": [],
   "source": [
    "grouped = df.groupby('zipcode')\n",
    "df = grouped.filter(lambda x: x['zipcode'].count() > 50)"
   ]
  },
  {
   "cell_type": "code",
   "execution_count": 39,
   "metadata": {
    "collapsed": false
   },
   "outputs": [
    {
     "data": {
      "text/html": [
       "<div>\n",
       "<style scoped>\n",
       "    .dataframe tbody tr th:only-of-type {\n",
       "        vertical-align: middle;\n",
       "    }\n",
       "\n",
       "    .dataframe tbody tr th {\n",
       "        vertical-align: top;\n",
       "    }\n",
       "\n",
       "    .dataframe thead th {\n",
       "        text-align: right;\n",
       "    }\n",
       "</style>\n",
       "<table border=\"1\" class=\"dataframe\">\n",
       "  <thead>\n",
       "    <tr style=\"text-align: right;\">\n",
       "      <th></th>\n",
       "      <th>totPurchaseAmt</th>\n",
       "      <th>bathrooms</th>\n",
       "      <th>latitude</th>\n",
       "      <th>longitude</th>\n",
       "      <th>bedrooms</th>\n",
       "      <th>yearBuilt</th>\n",
       "      <th>livingArea</th>\n",
       "      <th>averageSchoolRating</th>\n",
       "      <th>zipcode</th>\n",
       "      <th>sentiment</th>\n",
       "    </tr>\n",
       "  </thead>\n",
       "  <tbody>\n",
       "    <tr>\n",
       "      <th>0</th>\n",
       "      <td>152000.0</td>\n",
       "      <td>1.0</td>\n",
       "      <td>45.108779</td>\n",
       "      <td>-93.257808</td>\n",
       "      <td>2.0</td>\n",
       "      <td>1984</td>\n",
       "      <td>1300.0</td>\n",
       "      <td>4.000000</td>\n",
       "      <td>55432</td>\n",
       "      <td>0.0516</td>\n",
       "    </tr>\n",
       "    <tr>\n",
       "      <th>1</th>\n",
       "      <td>198000.0</td>\n",
       "      <td>2.0</td>\n",
       "      <td>45.237189</td>\n",
       "      <td>-93.409535</td>\n",
       "      <td>4.0</td>\n",
       "      <td>1996</td>\n",
       "      <td>1716.0</td>\n",
       "      <td>5.333333</td>\n",
       "      <td>55303</td>\n",
       "      <td>0.4939</td>\n",
       "    </tr>\n",
       "    <tr>\n",
       "      <th>3</th>\n",
       "      <td>415000.0</td>\n",
       "      <td>2.0</td>\n",
       "      <td>45.278217</td>\n",
       "      <td>-93.407533</td>\n",
       "      <td>3.0</td>\n",
       "      <td>1985</td>\n",
       "      <td>3108.0</td>\n",
       "      <td>6.333333</td>\n",
       "      <td>55303</td>\n",
       "      <td>0.2617</td>\n",
       "    </tr>\n",
       "    <tr>\n",
       "      <th>5</th>\n",
       "      <td>262000.0</td>\n",
       "      <td>2.0</td>\n",
       "      <td>45.164166</td>\n",
       "      <td>-93.297836</td>\n",
       "      <td>3.0</td>\n",
       "      <td>1985</td>\n",
       "      <td>2158.0</td>\n",
       "      <td>4.666667</td>\n",
       "      <td>55433</td>\n",
       "      <td>0.9136</td>\n",
       "    </tr>\n",
       "    <tr>\n",
       "      <th>6</th>\n",
       "      <td>280000.0</td>\n",
       "      <td>2.0</td>\n",
       "      <td>45.283700</td>\n",
       "      <td>-93.332023</td>\n",
       "      <td>3.0</td>\n",
       "      <td>1976</td>\n",
       "      <td>1993.0</td>\n",
       "      <td>7.333333</td>\n",
       "      <td>55304</td>\n",
       "      <td>0.9428</td>\n",
       "    </tr>\n",
       "  </tbody>\n",
       "</table>\n",
       "</div>"
      ],
      "text/plain": [
       "   totPurchaseAmt  bathrooms   latitude  longitude  bedrooms  yearBuilt  \\\n",
       "0        152000.0        1.0  45.108779 -93.257808       2.0       1984   \n",
       "1        198000.0        2.0  45.237189 -93.409535       4.0       1996   \n",
       "3        415000.0        2.0  45.278217 -93.407533       3.0       1985   \n",
       "5        262000.0        2.0  45.164166 -93.297836       3.0       1985   \n",
       "6        280000.0        2.0  45.283700 -93.332023       3.0       1976   \n",
       "\n",
       "   livingArea  averageSchoolRating  zipcode  sentiment  \n",
       "0      1300.0             4.000000    55432     0.0516  \n",
       "1      1716.0             5.333333    55303     0.4939  \n",
       "3      3108.0             6.333333    55303     0.2617  \n",
       "5      2158.0             4.666667    55433     0.9136  \n",
       "6      1993.0             7.333333    55304     0.9428  "
      ]
     },
     "execution_count": 39,
     "metadata": {},
     "output_type": "execute_result"
    }
   ],
   "source": [
    "df.head()"
   ]
  },
  {
   "cell_type": "code",
   "execution_count": 40,
   "metadata": {
    "collapsed": true
   },
   "outputs": [],
   "source": [
    "X = df.drop(\"totPurchaseAmt\", axis=1)\n",
    "y = df[\"totPurchaseAmt\"]\n",
    "\n",
    "X_train, X_test, y_train, y_test = train_test_split(X, y, test_size=0.2, random_state=42)"
   ]
  },
  {
   "cell_type": "code",
   "execution_count": 41,
   "metadata": {
    "collapsed": true
   },
   "outputs": [],
   "source": [
    "scaler = StandardScaler()\n",
    "scaler.fit(X_train)  # Don't cheat - fit only on training data\n",
    "X_train = scaler.transform(X_train)\n",
    "X_test = scaler.transform(X_test)  # apply same transformation to test data"
   ]
  },
  {
   "cell_type": "code",
   "execution_count": 42,
   "metadata": {
    "collapsed": false
   },
   "outputs": [],
   "source": [
    "cnn_model = Sequential()\n",
    "\n",
    "n_cols = X_train.shape[1]\n",
    "cnn_model.add(Dense(16, activation='relu', input_shape=(n_cols,)))\n",
    "cnn_model.add(Dense(32, activation='relu'))\n",
    "cnn_model.add(Dense(64, activation='relu'))\n",
    "cnn_model.add(Dense(128, activation='relu'))\n",
    "cnn_model.add(Dense(256, activation='relu'))\n",
    "cnn_model.add(Dense(256, activation='relu'))\n",
    "cnn_model.add(Dense(128, activation='relu'))\n",
    "cnn_model.add(Dense(64, activation='relu'))\n",
    "cnn_model.add(Dense(32, activation='relu'))\n",
    "cnn_model.add(Dense(16, activation='relu'))\n",
    "cnn_model.add(Dense(1))\n",
    "\n",
    "cnn_model.compile(optimizer='adam', loss='mean_absolute_error', metrics=[\"mae\"])"
   ]
  },
  {
   "cell_type": "code",
   "execution_count": 43,
   "metadata": {
    "collapsed": false
   },
   "outputs": [
    {
     "name": "stdout",
     "output_type": "stream",
     "text": [
      "=== Neural Network ===\n",
      "Mean Absolute Error: 43976.7384117077\n",
      "Mean Squared Error: 5035399992.825651\n",
      "Root Mean Squared Error: 70960.55237119882\n",
      "\n",
      "\n",
      "=== Linear Regression ===\n",
      "Mean Absolute Error: 51607.98075011635\n",
      "Mean Squared Error: 5812126589.324943\n",
      "Root Mean Squared Error: 76237.3044468713\n",
      "\n",
      "\n",
      "=== Support Vector Machine ===\n",
      "Mean Absolute Error: 88614.29571089693\n",
      "Mean Squared Error: 17085552354.757128\n",
      "Root Mean Squared Error: 130711.71468065564\n",
      "\n",
      "\n",
      "=== Decision Tree ===\n",
      "Mean Absolute Error: 63427.79605107159\n",
      "Mean Squared Error: 10593577560.066628\n",
      "Root Mean Squared Error: 102925.10655844194\n",
      "\n",
      "\n",
      "=== Ridge Regression ===\n",
      "Mean Absolute Error: 51607.766441197506\n",
      "Mean Squared Error: 5812123660.181337\n",
      "Root Mean Squared Error: 76237.28523617127\n",
      "\n",
      "\n",
      "=== Least Angle Regression ===\n",
      "Mean Absolute Error: 51605.48812942028\n",
      "Mean Squared Error: 5812007282.749407\n",
      "Root Mean Squared Error: 76236.5219743753\n",
      "\n",
      "\n",
      "=== Bayesian Ridge Regression ===\n",
      "Mean Absolute Error: 51603.24412544775\n",
      "Mean Squared Error: 5812075156.196874\n",
      "Root Mean Squared Error: 76236.96712354757\n",
      "\n",
      "\n",
      "=== SGD Regressor ===\n",
      "Mean Absolute Error: 52161.03484742722\n",
      "Mean Squared Error: 5875615059.1129055\n",
      "Root Mean Squared Error: 76652.560682034\n",
      "\n",
      "\n",
      "=== Nearest Neighbors Regression ===\n",
      "Mean Absolute Error: 48731.13109256726\n",
      "Mean Squared Error: 6009824448.46787\n",
      "Root Mean Squared Error: 77523.05752785987\n",
      "\n",
      "\n",
      "=== Gaussian Process ===\n",
      "Mean Absolute Error: 408497.1575819131\n",
      "Mean Squared Error: 3290754160806.9473\n",
      "Root Mean Squared Error: 1814043.5939654117\n",
      "\n",
      "\n",
      "=== Random Forest ===\n",
      "Mean Absolute Error: 45101.08690793434\n",
      "Mean Squared Error: 5390921855.375411\n",
      "Root Mean Squared Error: 73422.89735072711\n",
      "\n",
      "\n",
      "=== Gradient Boosting Regressor ===\n",
      "Mean Absolute Error: 45860.42720093019\n",
      "Mean Squared Error: 5484083643.371156\n",
      "Root Mean Squared Error: 74054.59906968071\n",
      "\n",
      "\n"
     ]
    }
   ],
   "source": [
    "models = {\n",
    "    \"Neural Network\" : cnn_model,\n",
    "    \"Linear Regression\" : linear_model.LinearRegression(), \n",
    "    \"Support Vector Machine\" : svm.SVR(),\n",
    "    \"Decision Tree\" : DecisionTreeRegressor(),\n",
    "    \"Ridge Regression\" : linear_model.Ridge(alpha=.5),\n",
    "    \"Least Angle Regression\" : linear_model.LassoLars(alpha=.1),\n",
    "    \"Bayesian Ridge Regression\" : linear_model.BayesianRidge(),\n",
    "    \"SGD Regressor\" : linear_model.SGDRegressor(),\n",
    "    \"Nearest Neighbors Regression\" : neighbors.KNeighborsRegressor(),\n",
    "    \"Gaussian Process\" : gaussian_process.GaussianProcessRegressor(),\n",
    "    \"Random Forest\" : ensemble.RandomForestRegressor(),\n",
    "    'Gradient Boosting Regressor' : ensemble.GradientBoostingRegressor()\n",
    "}\n",
    "\n",
    "for model_name in models:\n",
    "    model = models[model_name]\n",
    "\n",
    "    if model_name == \"Neural Network\":\n",
    "        model.fit(X_train, y_train, validation_split=0.1, epochs=100, verbose=0)\n",
    "    else:\n",
    "        model.fit(X_train, y_train)\n",
    "    \n",
    "    y_pred = model.predict(X_test)\n",
    "    \n",
    "    print (\"=== \" + model_name + \" ===\")\n",
    "    print('Mean Absolute Error:', metrics.mean_absolute_error(y_test, y_pred))  \n",
    "    print('Mean Squared Error:', metrics.mean_squared_error(y_test, y_pred))  \n",
    "    print('Root Mean Squared Error:', np.sqrt(metrics.mean_squared_error(y_test, y_pred)))\n",
    "    print ('\\n')"
   ]
  },
  {
   "cell_type": "code",
   "execution_count": null,
   "metadata": {
    "collapsed": true
   },
   "outputs": [],
   "source": [
    "from sklearn.model_selection import RandomizedSearchCV\n",
    "\n",
    "n_estimators = [int(x) for x in np.linspace(start = 200, stop = 2000, num = 10)]\n",
    "\n",
    "max_features = ['auto', 'sqrt']\n",
    "\n",
    "max_depth = [int(x) for x in np.linspace(10, 110, num = 11)]\n",
    "max_depth.append(None)\n",
    "\n",
    "min_samples_split = [2, 5, 10]\n",
    "\n",
    "min_samples_leaf = [1, 2, 4]\n",
    "\n",
    "bootstrap = [True, False]\n",
    "\n",
    "random_grid = {'n_estimators': n_estimators,\n",
    "               'max_features': max_features,\n",
    "               'max_depth': max_depth,\n",
    "               'min_samples_split': min_samples_split,\n",
    "               'min_samples_leaf': min_samples_leaf,\n",
    "               'bootstrap': bootstrap}\n",
    "\n",
    "rf = ensemble.RandomForestRegressor()\n",
    "\n",
    "rf_random = RandomizedSearchCV(estimator = rf, param_distributions = random_grid, n_iter = 100, cv = 3, verbose=2, random_state=42, n_jobs = -1)\n",
    "\n",
    "rf_random.fit(X_train, y_train)"
   ]
  },
  {
   "cell_type": "code",
   "execution_count": null,
   "metadata": {
    "collapsed": false
   },
   "outputs": [],
   "source": [
    "y_pred = rf_random.predict(X_test)\n",
    "\n",
    "print('Mean Absolute Error:', metrics.mean_absolute_error(y_test, y_pred))  \n",
    "print('Mean Squared Error:', metrics.mean_squared_error(y_test, y_pred))  \n",
    "print('Root Mean Squared Error:', np.sqrt(metrics.mean_squared_error(y_test, y_pred)))\n",
    "print ('\\n')"
   ]
  },
  {
   "cell_type": "code",
   "execution_count": null,
   "metadata": {
    "collapsed": true
   },
   "outputs": [],
   "source": []
  },
  {
   "cell_type": "code",
   "execution_count": null,
   "metadata": {
    "collapsed": true
   },
   "outputs": [],
   "source": []
  }
 ],
 "metadata": {
  "kernelspec": {
   "display_name": "tfGPU",
   "language": "python",
   "name": "tfgpu"
  },
  "language_info": {
   "codemirror_mode": {
    "name": "ipython",
    "version": 3
   },
   "file_extension": ".py",
   "mimetype": "text/x-python",
   "name": "python",
   "nbconvert_exporter": "python",
   "pygments_lexer": "ipython3",
   "version": "3.6.10"
  }
 },
 "nbformat": 4,
 "nbformat_minor": 2
}
