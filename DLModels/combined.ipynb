{
 "cells": [
  {
   "cell_type": "code",
   "execution_count": 1,
   "metadata": {},
   "outputs": [
    {
     "output_type": "stream",
     "name": "stderr",
     "text": "Using TensorFlow backend.\n"
    }
   ],
   "source": [
    "import pandas as pd \n",
    "import numpy as np\n",
    "import matplotlib.pyplot as plt\n",
    "pd.set_option('display.max_columns', None)\n",
    "\n",
    "from sklearn import linear_model, metrics, svm, neighbors, gaussian_process, ensemble, neural_network\n",
    "from sklearn.model_selection import train_test_split\n",
    "from sklearn.preprocessing import LabelEncoder, OneHotEncoder, StandardScaler\n",
    "from sklearn.metrics import mean_squared_error, r2_score\n",
    "from sklearn.tree import DecisionTreeRegressor\n",
    "\n",
    "from PIL import Image\n",
    "from tqdm import tqdm\n",
    "#from pandas_profiling import ProfileReport\n",
    "\n",
    "import keras, re, string\n",
    "from keras import applications\n",
    "from keras.models import Sequential\n",
    "from keras.layers import Dense, Dropout, Flatten, Conv2D, MaxPooling2D\n",
    "from keras.layers.normalization import BatchNormalization\n",
    "from keras.utils import to_categorical\n",
    "\n",
    "from nltk.sentiment.vader import SentimentIntensityAnalyzer"
   ]
  },
  {
   "cell_type": "code",
   "execution_count": 2,
   "metadata": {},
   "outputs": [],
   "source": [
    "df = pd.read_csv(\"dataWithImagePaths.csv\")"
   ]
  },
  {
   "cell_type": "code",
   "execution_count": 3,
   "metadata": {},
   "outputs": [
    {
     "output_type": "execute_result",
     "data": {
      "text/plain": "   Unnamed: 0  totPurchaseAmt                 street1      zip  \\\n0           0        152000.0      538 78th Avenue NE  55432.0   \n1           1        198000.0      14649 Iodine Ct NW  55303.0   \n2           2        130000.0    10921 Dogwood Street  55448.0   \n3           3        415000.0  16931 Helium Street NW  55303.0   \n4           4        329900.0     2372 Tart Lake Road  55038.0   \n\n                       property  \\\n0      538 78th Avenue NE 55432   \n1      14649 Iodine Ct NW 55303   \n2    10921 Dogwood Street 55448   \n3  16931 Helium Street NW 55303   \n4     2372 Tart Lake Road 55038   \n\n                                           ZillowURL      zpid  \\\n0  https://www.zillow.com/homedetails/538-78th-Av...   1475959   \n1  https://www.zillow.com/homedetails/14649-Iodin...   1539563   \n2  https://www.zillow.com/homedetails/10921-Dogwo...   1503295   \n3  https://www.zillow.com/homedetails/16931-Heliu...   1500884   \n4  https://www.zillow.com/homedetails/2372-Tart-L...  55182405   \n\n         streetAddress  zipcode              city state   latitude  longitude  \\\n0      538 78th Ave NE    55432  Spring Lake Park    MN  45.108779 -93.257808   \n1   14649 Iodine Ct NW    55303            Ramsey    MN  45.237189 -93.409535   \n2  10921 Dogwood St NW    55448       Coon Rapids    MN  45.168138 -93.271746   \n3   16931 Helium St NW    55303            Ramsey    MN  45.278217 -93.407533   \n4    2372 Tart Lake Rd    55038        Lino Lakes    MN  45.143781 -93.021604   \n\n        dateSold  bathrooms  bedrooms  livingArea  yearBuilt  lotSize  \\\n0  1569308400000        1.0       2.0      1300.0       1984     1225   \n1  1568271600000        2.0       4.0      1716.0       1996    10716   \n2  1566889200000        2.0       4.0       864.0       1963    12100   \n3  1571209200000        2.0       3.0      3108.0       1985   120225   \n4  1571036400000        3.0       4.0      1814.0       2001    10018   \n\n        homeType     homeStatus  photoCount  \\\n0          CONDO  RECENTLY_SOLD           4   \n1  SINGLE_FAMILY  RECENTLY_SOLD           0   \n2  SINGLE_FAMILY  RECENTLY_SOLD           0   \n3  SINGLE_FAMILY  RECENTLY_SOLD          30   \n4  SINGLE_FAMILY  RECENTLY_SOLD           0   \n\n                                           imageLink  daysOnZillow  \\\n0  https://photos.zillowstatic.com/p_g/IS1fwt0hhf...           174   \n1  https://www.zillowstatic.com/static/images/nop...           215   \n2  https://www.zillowstatic.com/static/images/nop...           179   \n3  https://photos.zillowstatic.com/p_g/IS72penoji...           181   \n4  https://www.zillowstatic.com/static/images/nop...           176   \n\n   isFeatured  shouldHighlight  brokerId  zestimate  rentZestimate  \\\n0       False            False         0   158110.0         1150.0   \n1       False            False         0   285985.0         1775.0   \n2       False            False         0   132773.0         1675.0   \n3       False            False         0   431995.0         2349.0   \n4       False            False         0   318162.0         1775.0   \n\n   listing_sub_type priceReduction  isUnmappable  rentalPetsFlags  \\\n0               NaN            NaN         False             64.0   \n1               NaN            NaN         False            192.0   \n2               NaN            NaN         False             64.0   \n3               NaN            NaN         False            192.0   \n4               NaN            NaN         False            192.0   \n\n                                     mediumImageLink  isPreforeclosureAuction  \\\n0  https://photos.zillowstatic.com/p_c/IS1fwt0hhf...                    False   \n1  https://www.zillowstatic.com/static/images/nop...                    False   \n2  https://www.zillowstatic.com/static/images/nop...                    False   \n3  https://photos.zillowstatic.com/p_c/IS72penoji...                    False   \n4  https://www.zillowstatic.com/static/images/nop...                    False   \n\n  homeStatusForHDP  festimate  isListingOwnedByCurrentSignedInAgent  \\\n0    RECENTLY_SOLD   158110.0                                 False   \n1    RECENTLY_SOLD   285985.0                                 False   \n2    RECENTLY_SOLD   132773.0                                 False   \n3    RECENTLY_SOLD   431995.0                                 False   \n4    RECENTLY_SOLD   318162.0                                 False   \n\n   isListingClaimedByCurrentSignedInUser  \\\n0                                  False   \n1                                  False   \n2                                  False   \n3                                  False   \n4                                  False   \n\n                                      hiResImageLink  \\\n0  https://photos.zillowstatic.com/p_f/IS1fwt0hhf...   \n1  https://www.zillowstatic.com/static/images/nop...   \n2  https://www.zillowstatic.com/static/images/nop...   \n3  https://photos.zillowstatic.com/p_f/IS72penoji...   \n4  https://www.zillowstatic.com/static/images/nop...   \n\n                                      watchImageLink  \\\n0  https://photos.zillowstatic.com/p_j/IS1fwt0hhf...   \n1  https://www.zillowstatic.com/static/images/nop...   \n2  https://www.zillowstatic.com/static/images/nop...   \n3  https://photos.zillowstatic.com/p_j/IS72penoji...   \n4  https://www.zillowstatic.com/static/images/nop...   \n\n                                         tvImageLink  \\\n0  https://photos.zillowstatic.com/p_m/IS1fwt0hhf...   \n1  https://www.zillowstatic.com/static/images/nop...   \n2  https://www.zillowstatic.com/static/images/nop...   \n3  https://photos.zillowstatic.com/p_m/IS72penoji...   \n4  https://www.zillowstatic.com/static/images/nop...   \n\n                               tvCollectionImageLink  \\\n0  https://photos.zillowstatic.com/p_l/IS1fwt0hhf...   \n1  https://www.zillowstatic.com/static/images/nop...   \n2  https://www.zillowstatic.com/static/images/nop...   \n3  https://photos.zillowstatic.com/p_l/IS72penoji...   \n4  https://www.zillowstatic.com/static/images/nop...   \n\n                                  tvHighResImageLink  zillowHasRightsToImages  \\\n0  https://photos.zillowstatic.com/p_n/IS1fwt0hhf...                     True   \n1  https://www.zillowstatic.com/static/images/nop...                     True   \n2  https://www.zillowstatic.com/static/images/nop...                     True   \n3  https://photos.zillowstatic.com/p_n/IS72penoji...                     True   \n4  https://www.zillowstatic.com/static/images/nop...                     True   \n\n                              desktopWebHdpImageLink isNonOwnerOccupied  \\\n0  https://photos.zillowstatic.com/p_h/IS1fwt0hhf...                NaN   \n1  https://www.zillowstatic.com/static/images/nop...                NaN   \n2  https://www.zillowstatic.com/static/images/nop...              False   \n3  https://photos.zillowstatic.com/p_h/IS72penoji...                NaN   \n4  https://www.zillowstatic.com/static/images/nop...                NaN   \n\n   hideZestimate  isPremierBuilder  isZillowOwned currency country  \\\n0          False             False          False      USD     USA   \n1          False             False          False      USD     USA   \n2          False             False          False      USD     USA   \n3          False             False          False      USD     USA   \n4          False             False          False      USD     USA   \n\n   taxAssessedValue    streetAddressOnly unit  averageSchoolRating  \\\n0              -1.0      538 78th Ave NE                  4.000000   \n1              -1.0   14649 Iodine Ct NW                  5.333333   \n2              -1.0  10921 Dogwood St NW                  5.666667   \n3              -1.0   16931 Helium St NW                  6.333333   \n4              -1.0    2372 Tart Lake Rd                  6.500000   \n\n                                         description     price  priceForHDP  \\\n0  Just move in! End unit, deck, double garage, w...  152000.0     152000.0   \n1  14649 Iodine Ct NW, Ramsey, MN is a single fam...  198000.0     198000.0   \n2  10921 Dogwood St NW, Coon Rapids, MN is a sing...  130000.0     130000.0   \n3  Stunning walk to Rum River and Creek running t...  415000.0     415000.0   \n4  2372 Tart Lake Rd, Lino Lakes, MN is a single ...  305657.0     305657.0   \n\n   hoaFee  contactPhone     status       imgFilepath  \n0   230.0           NaN  Completed  images/img_0.jpg  \n1     NaN           NaN  Completed          no photo  \n2     NaN           NaN  Completed          no photo  \n3     NaN           NaN  Completed  images/img_3.jpg  \n4     NaN           NaN  Completed          no photo  ",
      "text/html": "<div>\n<style scoped>\n    .dataframe tbody tr th:only-of-type {\n        vertical-align: middle;\n    }\n\n    .dataframe tbody tr th {\n        vertical-align: top;\n    }\n\n    .dataframe thead th {\n        text-align: right;\n    }\n</style>\n<table border=\"1\" class=\"dataframe\">\n  <thead>\n    <tr style=\"text-align: right;\">\n      <th></th>\n      <th>Unnamed: 0</th>\n      <th>totPurchaseAmt</th>\n      <th>street1</th>\n      <th>zip</th>\n      <th>property</th>\n      <th>ZillowURL</th>\n      <th>zpid</th>\n      <th>streetAddress</th>\n      <th>zipcode</th>\n      <th>city</th>\n      <th>state</th>\n      <th>latitude</th>\n      <th>longitude</th>\n      <th>dateSold</th>\n      <th>bathrooms</th>\n      <th>bedrooms</th>\n      <th>livingArea</th>\n      <th>yearBuilt</th>\n      <th>lotSize</th>\n      <th>homeType</th>\n      <th>homeStatus</th>\n      <th>photoCount</th>\n      <th>imageLink</th>\n      <th>daysOnZillow</th>\n      <th>isFeatured</th>\n      <th>shouldHighlight</th>\n      <th>brokerId</th>\n      <th>zestimate</th>\n      <th>rentZestimate</th>\n      <th>listing_sub_type</th>\n      <th>priceReduction</th>\n      <th>isUnmappable</th>\n      <th>rentalPetsFlags</th>\n      <th>mediumImageLink</th>\n      <th>isPreforeclosureAuction</th>\n      <th>homeStatusForHDP</th>\n      <th>festimate</th>\n      <th>isListingOwnedByCurrentSignedInAgent</th>\n      <th>isListingClaimedByCurrentSignedInUser</th>\n      <th>hiResImageLink</th>\n      <th>watchImageLink</th>\n      <th>tvImageLink</th>\n      <th>tvCollectionImageLink</th>\n      <th>tvHighResImageLink</th>\n      <th>zillowHasRightsToImages</th>\n      <th>desktopWebHdpImageLink</th>\n      <th>isNonOwnerOccupied</th>\n      <th>hideZestimate</th>\n      <th>isPremierBuilder</th>\n      <th>isZillowOwned</th>\n      <th>currency</th>\n      <th>country</th>\n      <th>taxAssessedValue</th>\n      <th>streetAddressOnly</th>\n      <th>unit</th>\n      <th>averageSchoolRating</th>\n      <th>description</th>\n      <th>price</th>\n      <th>priceForHDP</th>\n      <th>hoaFee</th>\n      <th>contactPhone</th>\n      <th>status</th>\n      <th>imgFilepath</th>\n    </tr>\n  </thead>\n  <tbody>\n    <tr>\n      <th>0</th>\n      <td>0</td>\n      <td>152000.0</td>\n      <td>538 78th Avenue NE</td>\n      <td>55432.0</td>\n      <td>538 78th Avenue NE 55432</td>\n      <td>https://www.zillow.com/homedetails/538-78th-Av...</td>\n      <td>1475959</td>\n      <td>538 78th Ave NE</td>\n      <td>55432</td>\n      <td>Spring Lake Park</td>\n      <td>MN</td>\n      <td>45.108779</td>\n      <td>-93.257808</td>\n      <td>1569308400000</td>\n      <td>1.0</td>\n      <td>2.0</td>\n      <td>1300.0</td>\n      <td>1984</td>\n      <td>1225</td>\n      <td>CONDO</td>\n      <td>RECENTLY_SOLD</td>\n      <td>4</td>\n      <td>https://photos.zillowstatic.com/p_g/IS1fwt0hhf...</td>\n      <td>174</td>\n      <td>False</td>\n      <td>False</td>\n      <td>0</td>\n      <td>158110.0</td>\n      <td>1150.0</td>\n      <td>NaN</td>\n      <td>NaN</td>\n      <td>False</td>\n      <td>64.0</td>\n      <td>https://photos.zillowstatic.com/p_c/IS1fwt0hhf...</td>\n      <td>False</td>\n      <td>RECENTLY_SOLD</td>\n      <td>158110.0</td>\n      <td>False</td>\n      <td>False</td>\n      <td>https://photos.zillowstatic.com/p_f/IS1fwt0hhf...</td>\n      <td>https://photos.zillowstatic.com/p_j/IS1fwt0hhf...</td>\n      <td>https://photos.zillowstatic.com/p_m/IS1fwt0hhf...</td>\n      <td>https://photos.zillowstatic.com/p_l/IS1fwt0hhf...</td>\n      <td>https://photos.zillowstatic.com/p_n/IS1fwt0hhf...</td>\n      <td>True</td>\n      <td>https://photos.zillowstatic.com/p_h/IS1fwt0hhf...</td>\n      <td>NaN</td>\n      <td>False</td>\n      <td>False</td>\n      <td>False</td>\n      <td>USD</td>\n      <td>USA</td>\n      <td>-1.0</td>\n      <td>538 78th Ave NE</td>\n      <td></td>\n      <td>4.000000</td>\n      <td>Just move in! End unit, deck, double garage, w...</td>\n      <td>152000.0</td>\n      <td>152000.0</td>\n      <td>230.0</td>\n      <td>NaN</td>\n      <td>Completed</td>\n      <td>images/img_0.jpg</td>\n    </tr>\n    <tr>\n      <th>1</th>\n      <td>1</td>\n      <td>198000.0</td>\n      <td>14649 Iodine Ct NW</td>\n      <td>55303.0</td>\n      <td>14649 Iodine Ct NW 55303</td>\n      <td>https://www.zillow.com/homedetails/14649-Iodin...</td>\n      <td>1539563</td>\n      <td>14649 Iodine Ct NW</td>\n      <td>55303</td>\n      <td>Ramsey</td>\n      <td>MN</td>\n      <td>45.237189</td>\n      <td>-93.409535</td>\n      <td>1568271600000</td>\n      <td>2.0</td>\n      <td>4.0</td>\n      <td>1716.0</td>\n      <td>1996</td>\n      <td>10716</td>\n      <td>SINGLE_FAMILY</td>\n      <td>RECENTLY_SOLD</td>\n      <td>0</td>\n      <td>https://www.zillowstatic.com/static/images/nop...</td>\n      <td>215</td>\n      <td>False</td>\n      <td>False</td>\n      <td>0</td>\n      <td>285985.0</td>\n      <td>1775.0</td>\n      <td>NaN</td>\n      <td>NaN</td>\n      <td>False</td>\n      <td>192.0</td>\n      <td>https://www.zillowstatic.com/static/images/nop...</td>\n      <td>False</td>\n      <td>RECENTLY_SOLD</td>\n      <td>285985.0</td>\n      <td>False</td>\n      <td>False</td>\n      <td>https://www.zillowstatic.com/static/images/nop...</td>\n      <td>https://www.zillowstatic.com/static/images/nop...</td>\n      <td>https://www.zillowstatic.com/static/images/nop...</td>\n      <td>https://www.zillowstatic.com/static/images/nop...</td>\n      <td>https://www.zillowstatic.com/static/images/nop...</td>\n      <td>True</td>\n      <td>https://www.zillowstatic.com/static/images/nop...</td>\n      <td>NaN</td>\n      <td>False</td>\n      <td>False</td>\n      <td>False</td>\n      <td>USD</td>\n      <td>USA</td>\n      <td>-1.0</td>\n      <td>14649 Iodine Ct NW</td>\n      <td></td>\n      <td>5.333333</td>\n      <td>14649 Iodine Ct NW, Ramsey, MN is a single fam...</td>\n      <td>198000.0</td>\n      <td>198000.0</td>\n      <td>NaN</td>\n      <td>NaN</td>\n      <td>Completed</td>\n      <td>no photo</td>\n    </tr>\n    <tr>\n      <th>2</th>\n      <td>2</td>\n      <td>130000.0</td>\n      <td>10921 Dogwood Street</td>\n      <td>55448.0</td>\n      <td>10921 Dogwood Street 55448</td>\n      <td>https://www.zillow.com/homedetails/10921-Dogwo...</td>\n      <td>1503295</td>\n      <td>10921 Dogwood St NW</td>\n      <td>55448</td>\n      <td>Coon Rapids</td>\n      <td>MN</td>\n      <td>45.168138</td>\n      <td>-93.271746</td>\n      <td>1566889200000</td>\n      <td>2.0</td>\n      <td>4.0</td>\n      <td>864.0</td>\n      <td>1963</td>\n      <td>12100</td>\n      <td>SINGLE_FAMILY</td>\n      <td>RECENTLY_SOLD</td>\n      <td>0</td>\n      <td>https://www.zillowstatic.com/static/images/nop...</td>\n      <td>179</td>\n      <td>False</td>\n      <td>False</td>\n      <td>0</td>\n      <td>132773.0</td>\n      <td>1675.0</td>\n      <td>NaN</td>\n      <td>NaN</td>\n      <td>False</td>\n      <td>64.0</td>\n      <td>https://www.zillowstatic.com/static/images/nop...</td>\n      <td>False</td>\n      <td>RECENTLY_SOLD</td>\n      <td>132773.0</td>\n      <td>False</td>\n      <td>False</td>\n      <td>https://www.zillowstatic.com/static/images/nop...</td>\n      <td>https://www.zillowstatic.com/static/images/nop...</td>\n      <td>https://www.zillowstatic.com/static/images/nop...</td>\n      <td>https://www.zillowstatic.com/static/images/nop...</td>\n      <td>https://www.zillowstatic.com/static/images/nop...</td>\n      <td>True</td>\n      <td>https://www.zillowstatic.com/static/images/nop...</td>\n      <td>False</td>\n      <td>False</td>\n      <td>False</td>\n      <td>False</td>\n      <td>USD</td>\n      <td>USA</td>\n      <td>-1.0</td>\n      <td>10921 Dogwood St NW</td>\n      <td></td>\n      <td>5.666667</td>\n      <td>10921 Dogwood St NW, Coon Rapids, MN is a sing...</td>\n      <td>130000.0</td>\n      <td>130000.0</td>\n      <td>NaN</td>\n      <td>NaN</td>\n      <td>Completed</td>\n      <td>no photo</td>\n    </tr>\n    <tr>\n      <th>3</th>\n      <td>3</td>\n      <td>415000.0</td>\n      <td>16931 Helium Street NW</td>\n      <td>55303.0</td>\n      <td>16931 Helium Street NW 55303</td>\n      <td>https://www.zillow.com/homedetails/16931-Heliu...</td>\n      <td>1500884</td>\n      <td>16931 Helium St NW</td>\n      <td>55303</td>\n      <td>Ramsey</td>\n      <td>MN</td>\n      <td>45.278217</td>\n      <td>-93.407533</td>\n      <td>1571209200000</td>\n      <td>2.0</td>\n      <td>3.0</td>\n      <td>3108.0</td>\n      <td>1985</td>\n      <td>120225</td>\n      <td>SINGLE_FAMILY</td>\n      <td>RECENTLY_SOLD</td>\n      <td>30</td>\n      <td>https://photos.zillowstatic.com/p_g/IS72penoji...</td>\n      <td>181</td>\n      <td>False</td>\n      <td>False</td>\n      <td>0</td>\n      <td>431995.0</td>\n      <td>2349.0</td>\n      <td>NaN</td>\n      <td>NaN</td>\n      <td>False</td>\n      <td>192.0</td>\n      <td>https://photos.zillowstatic.com/p_c/IS72penoji...</td>\n      <td>False</td>\n      <td>RECENTLY_SOLD</td>\n      <td>431995.0</td>\n      <td>False</td>\n      <td>False</td>\n      <td>https://photos.zillowstatic.com/p_f/IS72penoji...</td>\n      <td>https://photos.zillowstatic.com/p_j/IS72penoji...</td>\n      <td>https://photos.zillowstatic.com/p_m/IS72penoji...</td>\n      <td>https://photos.zillowstatic.com/p_l/IS72penoji...</td>\n      <td>https://photos.zillowstatic.com/p_n/IS72penoji...</td>\n      <td>True</td>\n      <td>https://photos.zillowstatic.com/p_h/IS72penoji...</td>\n      <td>NaN</td>\n      <td>False</td>\n      <td>False</td>\n      <td>False</td>\n      <td>USD</td>\n      <td>USA</td>\n      <td>-1.0</td>\n      <td>16931 Helium St NW</td>\n      <td></td>\n      <td>6.333333</td>\n      <td>Stunning walk to Rum River and Creek running t...</td>\n      <td>415000.0</td>\n      <td>415000.0</td>\n      <td>NaN</td>\n      <td>NaN</td>\n      <td>Completed</td>\n      <td>images/img_3.jpg</td>\n    </tr>\n    <tr>\n      <th>4</th>\n      <td>4</td>\n      <td>329900.0</td>\n      <td>2372 Tart Lake Road</td>\n      <td>55038.0</td>\n      <td>2372 Tart Lake Road 55038</td>\n      <td>https://www.zillow.com/homedetails/2372-Tart-L...</td>\n      <td>55182405</td>\n      <td>2372 Tart Lake Rd</td>\n      <td>55038</td>\n      <td>Lino Lakes</td>\n      <td>MN</td>\n      <td>45.143781</td>\n      <td>-93.021604</td>\n      <td>1571036400000</td>\n      <td>3.0</td>\n      <td>4.0</td>\n      <td>1814.0</td>\n      <td>2001</td>\n      <td>10018</td>\n      <td>SINGLE_FAMILY</td>\n      <td>RECENTLY_SOLD</td>\n      <td>0</td>\n      <td>https://www.zillowstatic.com/static/images/nop...</td>\n      <td>176</td>\n      <td>False</td>\n      <td>False</td>\n      <td>0</td>\n      <td>318162.0</td>\n      <td>1775.0</td>\n      <td>NaN</td>\n      <td>NaN</td>\n      <td>False</td>\n      <td>192.0</td>\n      <td>https://www.zillowstatic.com/static/images/nop...</td>\n      <td>False</td>\n      <td>RECENTLY_SOLD</td>\n      <td>318162.0</td>\n      <td>False</td>\n      <td>False</td>\n      <td>https://www.zillowstatic.com/static/images/nop...</td>\n      <td>https://www.zillowstatic.com/static/images/nop...</td>\n      <td>https://www.zillowstatic.com/static/images/nop...</td>\n      <td>https://www.zillowstatic.com/static/images/nop...</td>\n      <td>https://www.zillowstatic.com/static/images/nop...</td>\n      <td>True</td>\n      <td>https://www.zillowstatic.com/static/images/nop...</td>\n      <td>NaN</td>\n      <td>False</td>\n      <td>False</td>\n      <td>False</td>\n      <td>USD</td>\n      <td>USA</td>\n      <td>-1.0</td>\n      <td>2372 Tart Lake Rd</td>\n      <td></td>\n      <td>6.500000</td>\n      <td>2372 Tart Lake Rd, Lino Lakes, MN is a single ...</td>\n      <td>305657.0</td>\n      <td>305657.0</td>\n      <td>NaN</td>\n      <td>NaN</td>\n      <td>Completed</td>\n      <td>no photo</td>\n    </tr>\n  </tbody>\n</table>\n</div>"
     },
     "metadata": {},
     "execution_count": 3
    }
   ],
   "source": [
    "df.head()"
   ]
  },
  {
   "cell_type": "code",
   "execution_count": 4,
   "metadata": {},
   "outputs": [
    {
     "output_type": "stream",
     "name": "stdout",
     "text": "Average Height: 234.0\nMax Height: 234\nMin Height: 234\n\n\nAverage Width: 316.0\nMax Width: 316\nMin Width: 316\n"
    }
   ],
   "source": [
    "def get_size_statistics(data):\n",
    "    heights = []\n",
    "    widths = []\n",
    "    img_count = 0\n",
    "    for i, row in data.iterrows():\n",
    "        if row[\"imgFilepath\"] != \"no photo\" or row[\"imgFilepath\"] != np.nan:\n",
    "            try:\n",
    "                imgData = np.array(Image.open(row[\"imgFilepath\"]))\n",
    "                heights.append(imgData.shape[0])\n",
    "                widths.append(imgData.shape[1])\n",
    "                img_count += 1\n",
    "            except:\n",
    "                data.at[i, \"imgFilepath\"] = \"no photo\"\n",
    "    avg_height = sum(heights) / len(heights)\n",
    "    avg_width = sum(widths) / len(widths)\n",
    "    print(\"Average Height: \" + str(avg_height))\n",
    "    print(\"Max Height: \" + str(max(heights)))\n",
    "    print(\"Min Height: \" + str(min(heights)))\n",
    "    print('\\n')\n",
    "    print(\"Average Width: \" + str(avg_width))\n",
    "    print(\"Max Width: \" + str(max(widths)))\n",
    "    print(\"Min Width: \" + str(min(widths)))\n",
    "\n",
    "get_size_statistics(df)"
   ]
  },
  {
   "cell_type": "code",
   "execution_count": 5,
   "metadata": {},
   "outputs": [],
   "source": [
    "noPhotoIndx = df[df[\"imgFilepath\"] == \"no photo\"].index \n",
    "\n",
    "df.drop(noPhotoIndx, inplace=True)\n",
    "\n",
    "df = df[df[\"totPurchaseAmt\"] >= 50000]\n",
    "df = df[df[\"totPurchaseAmt\"] <= 5000000]\n",
    "\n",
    "df = df[df[\"yearBuilt\"] <= 2020]\n",
    "df = df[df[\"yearBuilt\"] >= 1940]\n",
    "\n",
    "df = df[df[\"zipcode\"] <= 56763]\n",
    "df = df[df[\"zipcode\"] >= 55001]\n",
    "\n",
    "df = df[df[\"livingArea\"] <= 30000]\n",
    "df = df[df[\"livingArea\"] >= 1000]\n",
    "\n",
    "df.drop_duplicates(\"mediumImageLink\", keep = \"first\", inplace = True)\n",
    "\n",
    "# df = pd.get_dummies(data=df, columns=[\"bathrooms\", \"bedrooms\", \"yearBuilt\", \"zipcode\"])"
   ]
  },
  {
   "cell_type": "code",
   "execution_count": 6,
   "metadata": {},
   "outputs": [
    {
     "output_type": "execute_result",
     "data": {
      "text/plain": "44800.798621756876"
     },
     "metadata": {},
     "execution_count": 6
    }
   ],
   "source": [
    "zillowPred = df[[\"totPurchaseAmt\", \"zestimate\"]]\n",
    "\n",
    "zillowPred.dropna(inplace=True)"
   ]
  },
  {
   "cell_type": "code",
   "execution_count": 7,
   "metadata": {},
   "outputs": [
    {
     "output_type": "execute_result",
     "data": {
      "text/plain": "   totPurchaseAmt  bathrooms   latitude  longitude  bedrooms  yearBuilt  \\\n0        152000.0        1.0  45.108779 -93.257808       2.0       1984   \n3        415000.0        2.0  45.278217 -93.407533       3.0       1985   \n5        262000.0        2.0  45.164166 -93.297836       3.0       1985   \n6        280000.0        2.0  45.283700 -93.332023       3.0       1976   \n7        237000.0        2.0  45.105931 -93.261656       3.0       1959   \n\n   livingArea  averageSchoolRating  zipcode  \\\n0      1300.0             4.000000    55432   \n3      3108.0             6.333333    55303   \n5      2158.0             4.666667    55433   \n6      1993.0             7.333333    55304   \n7      2058.0             3.666667    55432   \n\n                                         description       imgFilepath  \n0  Just move in! End unit, deck, double garage, w...  images/img_0.jpg  \n3  Stunning walk to Rum River and Creek running t...  images/img_3.jpg  \n5  This large rambler is located on a beautiful, ...  images/img_5.jpg  \n6  You won't want to miss out on this beautiful h...  images/img_6.jpg  \n7  Great, Updated, Ready To Move In, Starter Home...  images/img_7.jpg  ",
      "text/html": "<div>\n<style scoped>\n    .dataframe tbody tr th:only-of-type {\n        vertical-align: middle;\n    }\n\n    .dataframe tbody tr th {\n        vertical-align: top;\n    }\n\n    .dataframe thead th {\n        text-align: right;\n    }\n</style>\n<table border=\"1\" class=\"dataframe\">\n  <thead>\n    <tr style=\"text-align: right;\">\n      <th></th>\n      <th>totPurchaseAmt</th>\n      <th>bathrooms</th>\n      <th>latitude</th>\n      <th>longitude</th>\n      <th>bedrooms</th>\n      <th>yearBuilt</th>\n      <th>livingArea</th>\n      <th>averageSchoolRating</th>\n      <th>zipcode</th>\n      <th>description</th>\n      <th>imgFilepath</th>\n    </tr>\n  </thead>\n  <tbody>\n    <tr>\n      <th>0</th>\n      <td>152000.0</td>\n      <td>1.0</td>\n      <td>45.108779</td>\n      <td>-93.257808</td>\n      <td>2.0</td>\n      <td>1984</td>\n      <td>1300.0</td>\n      <td>4.000000</td>\n      <td>55432</td>\n      <td>Just move in! End unit, deck, double garage, w...</td>\n      <td>images/img_0.jpg</td>\n    </tr>\n    <tr>\n      <th>3</th>\n      <td>415000.0</td>\n      <td>2.0</td>\n      <td>45.278217</td>\n      <td>-93.407533</td>\n      <td>3.0</td>\n      <td>1985</td>\n      <td>3108.0</td>\n      <td>6.333333</td>\n      <td>55303</td>\n      <td>Stunning walk to Rum River and Creek running t...</td>\n      <td>images/img_3.jpg</td>\n    </tr>\n    <tr>\n      <th>5</th>\n      <td>262000.0</td>\n      <td>2.0</td>\n      <td>45.164166</td>\n      <td>-93.297836</td>\n      <td>3.0</td>\n      <td>1985</td>\n      <td>2158.0</td>\n      <td>4.666667</td>\n      <td>55433</td>\n      <td>This large rambler is located on a beautiful, ...</td>\n      <td>images/img_5.jpg</td>\n    </tr>\n    <tr>\n      <th>6</th>\n      <td>280000.0</td>\n      <td>2.0</td>\n      <td>45.283700</td>\n      <td>-93.332023</td>\n      <td>3.0</td>\n      <td>1976</td>\n      <td>1993.0</td>\n      <td>7.333333</td>\n      <td>55304</td>\n      <td>You won't want to miss out on this beautiful h...</td>\n      <td>images/img_6.jpg</td>\n    </tr>\n    <tr>\n      <th>7</th>\n      <td>237000.0</td>\n      <td>2.0</td>\n      <td>45.105931</td>\n      <td>-93.261656</td>\n      <td>3.0</td>\n      <td>1959</td>\n      <td>2058.0</td>\n      <td>3.666667</td>\n      <td>55432</td>\n      <td>Great, Updated, Ready To Move In, Starter Home...</td>\n      <td>images/img_7.jpg</td>\n    </tr>\n  </tbody>\n</table>\n</div>"
     },
     "metadata": {},
     "execution_count": 7
    }
   ],
   "source": [
    "df = df[\n",
    "    [\"totPurchaseAmt\", \"bathrooms\", \"latitude\", \"longitude\",\n",
    "     \"bedrooms\", \"yearBuilt\", \"livingArea\",\n",
    "     \"averageSchoolRating\", \"zipcode\", \"description\", \"imgFilepath\"]\n",
    "]\n",
    "\n",
    "df.dropna(inplace=True)\n",
    "\n",
    "df.head()"
   ]
  },
  {
   "cell_type": "code",
   "execution_count": 8,
   "metadata": {},
   "outputs": [],
   "source": [
    "def remove_mypunct(corpus):\n",
    "\n",
    "    corpus = map(lambda x: re.sub(r\"(#|@|http)\\S+\", \"\", x), corpus) #get rid of hashtags \n",
    "    corpus = map(lambda x: re.sub(r\"(\\t|\\n|\\v|…|“|”)\", \"\", x), corpus) #get rid of whitesape\n",
    "    corpus = map(lambda x:  re.sub(r\"\"\"\\w*\\d\\w*\"\"\", ' ', x.lower()), corpus) #get rid of numbers\n",
    "    punc_re = re.compile('[%s]' % re.escape(string.punctuation))\n",
    "    corpus = map(lambda x: punc_re.sub(' ', x), corpus)\n",
    "    corpus = map(lambda x: re.sub('[\\W_]+', \" \", x), corpus) #get rid of emojis\n",
    "    \n",
    "    return list(corpus)\n",
    "\n",
    "sid = SentimentIntensityAnalyzer()\n",
    "score_tuples = []\n",
    "score = []\n",
    "\n",
    "for i in df.index.values:\n",
    "    clean_house = remove_mypunct([df.description[i]])\n",
    "    ss = sid.polarity_scores(clean_house[0])\n",
    "    df.at[i, 'sentiment'] = float(ss['compound'])\n",
    "\n",
    "df = df.drop(\"description\", axis=1)"
   ]
  },
  {
   "cell_type": "code",
   "execution_count": 17,
   "metadata": {},
   "outputs": [
    {
     "output_type": "display_data",
     "data": {
      "text/plain": "HBox(children=(FloatProgress(value=0.0, max=15331.0), HTML(value='')))",
      "application/vnd.jupyter.widget-view+json": {
       "version_major": 2,
       "version_minor": 0,
       "model_id": "262716da58c44c3a8d7b47ae1d25236b"
      }
     },
     "metadata": {}
    },
    {
     "output_type": "stream",
     "name": "stdout",
     "text": "\n"
    }
   ],
   "source": [
    "IMG_SIZE = 224\n",
    "\n",
    "from tqdm import notebook\n",
    "\n",
    "def predictPriceWithImage(data, model):\n",
    "    imageData = []\n",
    "    for i, row in notebook.tqdm(data.iterrows(), total=len(data)):\n",
    "        img = Image.open(row[\"imgFilepath\"])\n",
    "        img = img.resize((IMG_SIZE, IMG_SIZE))\n",
    "        img = np.array(img)\n",
    "        img = np.array([i for i in img]).reshape(-1, IMG_SIZE, IMG_SIZE, 3)\n",
    "        pred = model.predict(img)\n",
    "        data.at[i, \"imgPred\"] = pred\n",
    "\n",
    "model = keras.models.load_model(\"ZillowCNN.h5\")\n",
    "\n",
    "df[\"imgPred\"] = 0\n",
    "\n",
    "predictPriceWithImage(df, model)"
   ]
  },
  {
   "cell_type": "code",
   "execution_count": 18,
   "metadata": {},
   "outputs": [
    {
     "output_type": "execute_result",
     "data": {
      "text/plain": "   totPurchaseAmt  bathrooms   latitude  longitude  bedrooms  yearBuilt  \\\n0        152000.0        1.0  45.108779 -93.257808       2.0       1984   \n3        415000.0        2.0  45.278217 -93.407533       3.0       1985   \n5        262000.0        2.0  45.164166 -93.297836       3.0       1985   \n6        280000.0        2.0  45.283700 -93.332023       3.0       1976   \n7        237000.0        2.0  45.105931 -93.261656       3.0       1959   \n\n   livingArea  averageSchoolRating  zipcode       imgFilepath  sentiment  \\\n0      1300.0             4.000000    55432  images/img_0.jpg     0.0516   \n3      3108.0             6.333333    55303  images/img_3.jpg     0.2617   \n5      2158.0             4.666667    55433  images/img_5.jpg     0.9136   \n6      1993.0             7.333333    55304  images/img_6.jpg     0.9428   \n7      2058.0             3.666667    55432  images/img_7.jpg     0.9869   \n\n   imgPred  \n0   353241  \n3   282406  \n5   372622  \n6   259128  \n7   239807  ",
      "text/html": "<div>\n<style scoped>\n    .dataframe tbody tr th:only-of-type {\n        vertical-align: middle;\n    }\n\n    .dataframe tbody tr th {\n        vertical-align: top;\n    }\n\n    .dataframe thead th {\n        text-align: right;\n    }\n</style>\n<table border=\"1\" class=\"dataframe\">\n  <thead>\n    <tr style=\"text-align: right;\">\n      <th></th>\n      <th>totPurchaseAmt</th>\n      <th>bathrooms</th>\n      <th>latitude</th>\n      <th>longitude</th>\n      <th>bedrooms</th>\n      <th>yearBuilt</th>\n      <th>livingArea</th>\n      <th>averageSchoolRating</th>\n      <th>zipcode</th>\n      <th>imgFilepath</th>\n      <th>sentiment</th>\n      <th>imgPred</th>\n    </tr>\n  </thead>\n  <tbody>\n    <tr>\n      <th>0</th>\n      <td>152000.0</td>\n      <td>1.0</td>\n      <td>45.108779</td>\n      <td>-93.257808</td>\n      <td>2.0</td>\n      <td>1984</td>\n      <td>1300.0</td>\n      <td>4.000000</td>\n      <td>55432</td>\n      <td>images/img_0.jpg</td>\n      <td>0.0516</td>\n      <td>353241</td>\n    </tr>\n    <tr>\n      <th>3</th>\n      <td>415000.0</td>\n      <td>2.0</td>\n      <td>45.278217</td>\n      <td>-93.407533</td>\n      <td>3.0</td>\n      <td>1985</td>\n      <td>3108.0</td>\n      <td>6.333333</td>\n      <td>55303</td>\n      <td>images/img_3.jpg</td>\n      <td>0.2617</td>\n      <td>282406</td>\n    </tr>\n    <tr>\n      <th>5</th>\n      <td>262000.0</td>\n      <td>2.0</td>\n      <td>45.164166</td>\n      <td>-93.297836</td>\n      <td>3.0</td>\n      <td>1985</td>\n      <td>2158.0</td>\n      <td>4.666667</td>\n      <td>55433</td>\n      <td>images/img_5.jpg</td>\n      <td>0.9136</td>\n      <td>372622</td>\n    </tr>\n    <tr>\n      <th>6</th>\n      <td>280000.0</td>\n      <td>2.0</td>\n      <td>45.283700</td>\n      <td>-93.332023</td>\n      <td>3.0</td>\n      <td>1976</td>\n      <td>1993.0</td>\n      <td>7.333333</td>\n      <td>55304</td>\n      <td>images/img_6.jpg</td>\n      <td>0.9428</td>\n      <td>259128</td>\n    </tr>\n    <tr>\n      <th>7</th>\n      <td>237000.0</td>\n      <td>2.0</td>\n      <td>45.105931</td>\n      <td>-93.261656</td>\n      <td>3.0</td>\n      <td>1959</td>\n      <td>2058.0</td>\n      <td>3.666667</td>\n      <td>55432</td>\n      <td>images/img_7.jpg</td>\n      <td>0.9869</td>\n      <td>239807</td>\n    </tr>\n  </tbody>\n</table>\n</div>"
     },
     "metadata": {},
     "execution_count": 18
    }
   ],
   "source": [
    "df.head()"
   ]
  },
  {
   "cell_type": "code",
   "execution_count": 19,
   "metadata": {},
   "outputs": [],
   "source": [
    "df = df.drop(\"imgFilepath\", axis=1)\n",
    "\n",
    "grouped = df.groupby('zipcode')\n",
    "df = grouped.filter(lambda x: x['zipcode'].count() > 50)"
   ]
  },
  {
   "cell_type": "code",
   "execution_count": 20,
   "metadata": {},
   "outputs": [
    {
     "output_type": "execute_result",
     "data": {
      "text/plain": "   totPurchaseAmt  bathrooms   latitude  longitude  bedrooms  yearBuilt  \\\n0        152000.0        1.0  45.108779 -93.257808       2.0       1984   \n3        415000.0        2.0  45.278217 -93.407533       3.0       1985   \n5        262000.0        2.0  45.164166 -93.297836       3.0       1985   \n6        280000.0        2.0  45.283700 -93.332023       3.0       1976   \n7        237000.0        2.0  45.105931 -93.261656       3.0       1959   \n\n   livingArea  averageSchoolRating  zipcode  sentiment  imgPred  \n0      1300.0             4.000000    55432     0.0516   353241  \n3      3108.0             6.333333    55303     0.2617   282406  \n5      2158.0             4.666667    55433     0.9136   372622  \n6      1993.0             7.333333    55304     0.9428   259128  \n7      2058.0             3.666667    55432     0.9869   239807  ",
      "text/html": "<div>\n<style scoped>\n    .dataframe tbody tr th:only-of-type {\n        vertical-align: middle;\n    }\n\n    .dataframe tbody tr th {\n        vertical-align: top;\n    }\n\n    .dataframe thead th {\n        text-align: right;\n    }\n</style>\n<table border=\"1\" class=\"dataframe\">\n  <thead>\n    <tr style=\"text-align: right;\">\n      <th></th>\n      <th>totPurchaseAmt</th>\n      <th>bathrooms</th>\n      <th>latitude</th>\n      <th>longitude</th>\n      <th>bedrooms</th>\n      <th>yearBuilt</th>\n      <th>livingArea</th>\n      <th>averageSchoolRating</th>\n      <th>zipcode</th>\n      <th>sentiment</th>\n      <th>imgPred</th>\n    </tr>\n  </thead>\n  <tbody>\n    <tr>\n      <th>0</th>\n      <td>152000.0</td>\n      <td>1.0</td>\n      <td>45.108779</td>\n      <td>-93.257808</td>\n      <td>2.0</td>\n      <td>1984</td>\n      <td>1300.0</td>\n      <td>4.000000</td>\n      <td>55432</td>\n      <td>0.0516</td>\n      <td>353241</td>\n    </tr>\n    <tr>\n      <th>3</th>\n      <td>415000.0</td>\n      <td>2.0</td>\n      <td>45.278217</td>\n      <td>-93.407533</td>\n      <td>3.0</td>\n      <td>1985</td>\n      <td>3108.0</td>\n      <td>6.333333</td>\n      <td>55303</td>\n      <td>0.2617</td>\n      <td>282406</td>\n    </tr>\n    <tr>\n      <th>5</th>\n      <td>262000.0</td>\n      <td>2.0</td>\n      <td>45.164166</td>\n      <td>-93.297836</td>\n      <td>3.0</td>\n      <td>1985</td>\n      <td>2158.0</td>\n      <td>4.666667</td>\n      <td>55433</td>\n      <td>0.9136</td>\n      <td>372622</td>\n    </tr>\n    <tr>\n      <th>6</th>\n      <td>280000.0</td>\n      <td>2.0</td>\n      <td>45.283700</td>\n      <td>-93.332023</td>\n      <td>3.0</td>\n      <td>1976</td>\n      <td>1993.0</td>\n      <td>7.333333</td>\n      <td>55304</td>\n      <td>0.9428</td>\n      <td>259128</td>\n    </tr>\n    <tr>\n      <th>7</th>\n      <td>237000.0</td>\n      <td>2.0</td>\n      <td>45.105931</td>\n      <td>-93.261656</td>\n      <td>3.0</td>\n      <td>1959</td>\n      <td>2058.0</td>\n      <td>3.666667</td>\n      <td>55432</td>\n      <td>0.9869</td>\n      <td>239807</td>\n    </tr>\n  </tbody>\n</table>\n</div>"
     },
     "metadata": {},
     "execution_count": 20
    }
   ],
   "source": [
    "df.head()"
   ]
  },
  {
   "cell_type": "code",
   "execution_count": 21,
   "metadata": {},
   "outputs": [],
   "source": [
    "X = df.drop(\"totPurchaseAmt\", axis=1)\n",
    "y = df[\"totPurchaseAmt\"]\n",
    "\n",
    "X_train, X_test, y_train, y_test = train_test_split(X, y, test_size=0.2, random_state=42)"
   ]
  },
  {
   "cell_type": "code",
   "execution_count": 22,
   "metadata": {},
   "outputs": [],
   "source": [
    "scaler = StandardScaler()\n",
    "scaler.fit(X_train)  # Don't cheat - fit only on training data\n",
    "X_train = scaler.transform(X_train)\n",
    "X_test = scaler.transform(X_test)  # apply same transformation to test data"
   ]
  },
  {
   "cell_type": "code",
   "execution_count": 74,
   "metadata": {},
   "outputs": [],
   "source": [
    "model = Sequential()\n",
    "\n",
    "n_cols = X_train.shape[1]\n",
    "model.add(Dense(16, activation='relu', input_shape=(n_cols,)))\n",
    "model.add(Dense(32, activation='relu'))\n",
    "model.add(Dense(64, activation='relu'))\n",
    "model.add(Dense(128, activation='relu'))\n",
    "model.add(Dense(256, activation='relu'))\n",
    "model.add(Dense(256, activation='relu'))\n",
    "model.add(Dense(128, activation='relu'))\n",
    "model.add(Dense(64, activation='relu'))\n",
    "model.add(Dense(32, activation='relu'))\n",
    "model.add(Dense(16, activation='relu'))\n",
    "model.add(Dense(1))\n",
    "\n",
    "model.compile(optimizer='adam', loss='mean_absolute_error', metrics=[\"mae\"])"
   ]
  },
  {
   "cell_type": "code",
   "execution_count": 75,
   "metadata": {
    "tags": [
     "outputPrepend",
     "outputPrepend",
     "outputPrepend",
     "outputPrepend",
     "outputPrepend",
     "outputPrepend",
     "outputPrepend",
     "outputPrepend",
     "outputPrepend",
     "outputPrepend",
     "outputPrepend",
     "outputPrepend",
     "outputPrepend",
     "outputPrepend",
     "outputPrepend",
     "outputPrepend",
     "outputPrepend",
     "outputPrepend",
     "outputPrepend",
     "outputPrepend",
     "outputPrepend",
     "outputPrepend",
     "outputPrepend",
     "outputPrepend",
     "outputPrepend",
     "outputPrepend",
     "outputPrepend",
     "outputPrepend",
     "outputPrepend",
     "outputPrepend",
     "outputPrepend",
     "outputPrepend",
     "outputPrepend",
     "outputPrepend",
     "outputPrepend",
     "outputPrepend",
     "outputPrepend",
     "outputPrepend",
     "outputPrepend",
     "outputPrepend",
     "outputPrepend",
     "outputPrepend",
     "outputPrepend",
     "outputPrepend",
     "outputPrepend",
     "outputPrepend",
     "outputPrepend",
     "outputPrepend",
     "outputPrepend",
     "outputPrepend",
     "outputPrepend",
     "outputPrepend",
     "outputPrepend",
     "outputPrepend",
     "outputPrepend",
     "outputPrepend",
     "outputPrepend",
     "outputPrepend",
     "outputPrepend",
     "outputPrepend",
     "outputPrepend",
     "outputPrepend",
     "outputPrepend",
     "outputPrepend",
     "outputPrepend",
     "outputPrepend",
     "outputPrepend",
     "outputPrepend",
     "outputPrepend",
     "outputPrepend",
     "outputPrepend",
     "outputPrepend",
     "outputPrepend",
     "outputPrepend",
     "outputPrepend",
     "outputPrepend",
     "outputPrepend",
     "outputPrepend",
     "outputPrepend",
     "outputPrepend",
     "outputPrepend",
     "outputPrepend",
     "outputPrepend",
     "outputPrepend",
     "outputPrepend",
     "outputPrepend",
     "outputPrepend",
     "outputPrepend",
     "outputPrepend",
     "outputPrepend",
     "outputPrepend",
     "outputPrepend",
     "outputPrepend",
     "outputPrepend",
     "outputPrepend",
     "outputPrepend",
     "outputPrepend",
     "outputPrepend",
     "outputPrepend",
     "outputPrepend",
     "outputPrepend",
     "outputPrepend",
     "outputPrepend",
     "outputPrepend",
     "outputPrepend",
     "outputPrepend",
     "outputPrepend",
     "outputPrepend",
     "outputPrepend",
     "outputPrepend",
     "outputPrepend",
     "outputPrepend",
     "outputPrepend",
     "outputPrepend",
     "outputPrepend",
     "outputPrepend",
     "outputPrepend",
     "outputPrepend",
     "outputPrepend",
     "outputPrepend",
     "outputPrepend",
     "outputPrepend",
     "outputPrepend",
     "outputPrepend",
     "outputPrepend",
     "outputPrepend",
     "outputPrepend",
     "outputPrepend",
     "outputPrepend",
     "outputPrepend",
     "outputPrepend",
     "outputPrepend",
     "outputPrepend",
     "outputPrepend",
     "outputPrepend",
     "outputPrepend",
     "outputPrepend",
     "outputPrepend",
     "outputPrepend",
     "outputPrepend",
     "outputPrepend",
     "outputPrepend",
     "outputPrepend",
     "outputPrepend",
     "outputPrepend",
     "outputPrepend",
     "outputPrepend",
     "outputPrepend",
     "outputPrepend",
     "outputPrepend",
     "outputPrepend",
     "outputPrepend",
     "outputPrepend",
     "outputPrepend",
     "outputPrepend",
     "outputPrepend",
     "outputPrepend",
     "outputPrepend",
     "outputPrepend",
     "outputPrepend",
     "outputPrepend",
     "outputPrepend",
     "outputPrepend",
     "outputPrepend",
     "outputPrepend",
     "outputPrepend",
     "outputPrepend",
     "outputPrepend",
     "outputPrepend",
     "outputPrepend",
     "outputPrepend",
     "outputPrepend",
     "outputPrepend",
     "outputPrepend",
     "outputPrepend",
     "outputPrepend",
     "outputPrepend",
     "outputPrepend",
     "outputPrepend",
     "outputPrepend",
     "outputPrepend",
     "outputPrepend",
     "outputPrepend",
     "outputPrepend",
     "outputPrepend",
     "outputPrepend",
     "outputPrepend",
     "outputPrepend",
     "outputPrepend",
     "outputPrepend",
     "outputPrepend",
     "outputPrepend",
     "outputPrepend",
     "outputPrepend",
     "outputPrepend",
     "outputPrepend",
     "outputPrepend",
     "outputPrepend",
     "outputPrepend",
     "outputPrepend",
     "outputPrepend",
     "outputPrepend",
     "outputPrepend",
     "outputPrepend",
     "outputPrepend",
     "outputPrepend",
     "outputPrepend",
     "outputPrepend",
     "outputPrepend",
     "outputPrepend",
     "outputPrepend",
     "outputPrepend",
     "outputPrepend",
     "outputPrepend",
     "outputPrepend",
     "outputPrepend",
     "outputPrepend",
     "outputPrepend",
     "outputPrepend",
     "outputPrepend",
     "outputPrepend",
     "outputPrepend",
     "outputPrepend",
     "outputPrepend",
     "outputPrepend",
     "outputPrepend",
     "outputPrepend",
     "outputPrepend",
     "outputPrepend",
     "outputPrepend",
     "outputPrepend",
     "outputPrepend",
     "outputPrepend",
     "outputPrepend",
     "outputPrepend",
     "outputPrepend",
     "outputPrepend",
     "outputPrepend",
     "outputPrepend",
     "outputPrepend",
     "outputPrepend",
     "outputPrepend",
     "outputPrepend",
     "outputPrepend",
     "outputPrepend",
     "outputPrepend"
    ]
   },
   "outputs": [
    {
     "output_type": "stream",
     "name": "stdout",
     "text": "Train on 10073 samples, validate on 1120 samples\nEpoch 1/100\n10073/10073 [==============================] - 1s 121us/step - loss: 143272.2202 - mae: 143272.2344 - val_loss: 65694.1965 - val_mae: 65694.2031\nEpoch 2/100\n10073/10073 [==============================] - 1s 91us/step - loss: 61265.7204 - mae: 61265.7266 - val_loss: 61436.3133 - val_mae: 61436.3125\nEpoch 3/100\n10073/10073 [==============================] - 1s 91us/step - loss: 57042.7538 - mae: 57042.7500 - val_loss: 56241.7219 - val_mae: 56241.7266\nEpoch 4/100\n10073/10073 [==============================] - 1s 92us/step - loss: 54957.5234 - mae: 54957.5312 - val_loss: 55902.8533 - val_mae: 55902.8555\nEpoch 5/100\n10073/10073 [==============================] - 1s 92us/step - loss: 53313.9557 - mae: 53313.9492 - val_loss: 53690.8458 - val_mae: 53690.8516\nEpoch 6/100\n10073/10073 [==============================] - 1s 91us/step - loss: 52961.2267 - mae: 52961.2305 - val_loss: 52763.1479 - val_mae: 52763.1445\nEpoch 7/100\n10073/10073 [==============================] - 1s 93us/step - loss: 51773.3524 - mae: 51773.3359 - val_loss: 53300.2866 - val_mae: 53300.2891\nEpoch 8/100\n10073/10073 [==============================] - 1s 90us/step - loss: 51512.8913 - mae: 51512.8945 - val_loss: 63899.8579 - val_mae: 63899.8516\nEpoch 9/100\n10073/10073 [==============================] - 1s 91us/step - loss: 50995.9305 - mae: 50995.9297 - val_loss: 53401.4623 - val_mae: 53401.4688\nEpoch 10/100\n10073/10073 [==============================] - 1s 88us/step - loss: 50794.0802 - mae: 50794.0938 - val_loss: 54748.5821 - val_mae: 54748.5781\nEpoch 11/100\n10073/10073 [==============================] - 1s 90us/step - loss: 50217.5879 - mae: 50217.5859 - val_loss: 51237.5759 - val_mae: 51237.5742\nEpoch 12/100\n10073/10073 [==============================] - 1s 92us/step - loss: 49943.8170 - mae: 49943.8047 - val_loss: 51587.9084 - val_mae: 51587.9062\nEpoch 13/100\n10073/10073 [==============================] - 1s 90us/step - loss: 49698.6685 - mae: 49698.6758 - val_loss: 51070.8574 - val_mae: 51070.8516\nEpoch 14/100\n10073/10073 [==============================] - 1s 90us/step - loss: 49720.8608 - mae: 49720.8633 - val_loss: 52186.8708 - val_mae: 52186.8633\nEpoch 15/100\n10073/10073 [==============================] - 1s 91us/step - loss: 49992.0410 - mae: 49992.0469 - val_loss: 50779.1195 - val_mae: 50779.1172\nEpoch 16/100\n10073/10073 [==============================] - 1s 95us/step - loss: 49840.1255 - mae: 49840.1172 - val_loss: 51672.4528 - val_mae: 51672.4453\nEpoch 17/100\n10073/10073 [==============================] - 1s 97us/step - loss: 49668.1523 - mae: 49668.1445 - val_loss: 51285.1474 - val_mae: 51285.1445\nEpoch 18/100\n10073/10073 [==============================] - 1s 97us/step - loss: 49036.9521 - mae: 49036.9688 - val_loss: 51870.7228 - val_mae: 51870.7266\nEpoch 19/100\n10073/10073 [==============================] - 1s 98us/step - loss: 48860.3447 - mae: 48860.3359 - val_loss: 50933.6859 - val_mae: 50933.6875\nEpoch 20/100\n10073/10073 [==============================] - 1s 95us/step - loss: 48816.4251 - mae: 48816.4375 - val_loss: 50517.3444 - val_mae: 50517.3477\nEpoch 21/100\n10073/10073 [==============================] - 1s 95us/step - loss: 48509.3616 - mae: 48509.3359 - val_loss: 49831.4695 - val_mae: 49831.4727\nEpoch 22/100\n10073/10073 [==============================] - 1s 92us/step - loss: 48184.6452 - mae: 48184.6289 - val_loss: 50393.4210 - val_mae: 50393.4258\nEpoch 23/100\n10073/10073 [==============================] - 1s 95us/step - loss: 48345.7160 - mae: 48345.7109 - val_loss: 49941.2783 - val_mae: 49941.2773\nEpoch 24/100\n10073/10073 [==============================] - 1s 93us/step - loss: 47826.6838 - mae: 47826.6875 - val_loss: 49501.5531 - val_mae: 49501.5508\nEpoch 25/100\n10073/10073 [==============================] - 1s 93us/step - loss: 47952.5688 - mae: 47952.5547 - val_loss: 49275.8829 - val_mae: 49275.8789\nEpoch 26/100\n10073/10073 [==============================] - 1s 96us/step - loss: 47856.4287 - mae: 47856.4414 - val_loss: 50191.9493 - val_mae: 50191.9492\nEpoch 27/100\n10073/10073 [==============================] - 1s 94us/step - loss: 47516.1463 - mae: 47516.1328 - val_loss: 49064.7424 - val_mae: 49064.7461\nEpoch 28/100\n10073/10073 [==============================] - 1s 91us/step - loss: 48441.6860 - mae: 48441.6836 - val_loss: 48927.6052 - val_mae: 48927.6055\nEpoch 29/100\n10073/10073 [==============================] - 1s 93us/step - loss: 47525.9994 - mae: 47526.0078 - val_loss: 48755.1907 - val_mae: 48755.1875\nEpoch 30/100\n10073/10073 [==============================] - 1s 95us/step - loss: 47035.2203 - mae: 47035.2227 - val_loss: 49061.9418 - val_mae: 49061.9414\nEpoch 31/100\n10073/10073 [==============================] - 1s 93us/step - loss: 47598.1260 - mae: 47598.1211 - val_loss: 49855.2007 - val_mae: 49855.2070\nEpoch 32/100\n10073/10073 [==============================] - 1s 94us/step - loss: 47199.9507 - mae: 47199.9414 - val_loss: 51815.9292 - val_mae: 51815.9258\nEpoch 33/100\n10073/10073 [==============================] - 1s 92us/step - loss: 47823.3378 - mae: 47823.3203 - val_loss: 49816.2729 - val_mae: 49816.2734\nEpoch 34/100\n10073/10073 [==============================] - 1s 93us/step - loss: 47384.3096 - mae: 47384.3203 - val_loss: 48350.0905 - val_mae: 48350.0938\nEpoch 35/100\n10073/10073 [==============================] - 1s 93us/step - loss: 46584.6874 - mae: 46584.6914 - val_loss: 48533.4013 - val_mae: 48533.4023\nEpoch 36/100\n10073/10073 [==============================] - 1s 94us/step - loss: 47135.3606 - mae: 47135.3555 - val_loss: 48272.4231 - val_mae: 48272.4297\nEpoch 37/100\n10073/10073 [==============================] - 1s 92us/step - loss: 46493.6654 - mae: 46493.6602 - val_loss: 48803.6012 - val_mae: 48803.5977\nEpoch 38/100\n10073/10073 [==============================] - 1s 92us/step - loss: 46528.4228 - mae: 46528.4180 - val_loss: 47981.6946 - val_mae: 47981.6914\nEpoch 39/100\n10073/10073 [==============================] - 1s 95us/step - loss: 46445.4017 - mae: 46445.4062 - val_loss: 50215.9997 - val_mae: 50216.0039\nEpoch 40/100\n10073/10073 [==============================] - 1s 92us/step - loss: 46141.7792 - mae: 46141.7656 - val_loss: 47919.6588 - val_mae: 47919.6562\nEpoch 41/100\n10073/10073 [==============================] - 1s 93us/step - loss: 46317.9487 - mae: 46317.9531 - val_loss: 47464.1064 - val_mae: 47464.1016\nEpoch 42/100\n10073/10073 [==============================] - 1s 92us/step - loss: 45718.5288 - mae: 45718.5391 - val_loss: 47568.9683 - val_mae: 47568.9688\nEpoch 43/100\n10073/10073 [==============================] - 1s 93us/step - loss: 45921.4589 - mae: 45921.4648 - val_loss: 48013.8096 - val_mae: 48013.8125\nEpoch 44/100\n10073/10073 [==============================] - 1s 93us/step - loss: 45992.7139 - mae: 45992.6953 - val_loss: 49583.5843 - val_mae: 49583.5820\nEpoch 45/100\n10073/10073 [==============================] - 1s 91us/step - loss: 45842.6207 - mae: 45842.6016 - val_loss: 47659.7992 - val_mae: 47659.8047\nEpoch 46/100\n10073/10073 [==============================] - 1s 93us/step - loss: 46329.2030 - mae: 46329.2109 - val_loss: 51069.3264 - val_mae: 51069.3281\nEpoch 47/100\n10073/10073 [==============================] - 1s 97us/step - loss: 46259.3182 - mae: 46259.3164 - val_loss: 47522.9620 - val_mae: 47522.9609\nEpoch 48/100\n10073/10073 [==============================] - 1s 93us/step - loss: 45843.5375 - mae: 45843.5312 - val_loss: 48620.4794 - val_mae: 48620.4805\nEpoch 49/100\n10073/10073 [==============================] - 1s 89us/step - loss: 45703.7303 - mae: 45703.7227 - val_loss: 50840.2630 - val_mae: 50840.2656\nEpoch 50/100\n10073/10073 [==============================] - 1s 92us/step - loss: 45903.6933 - mae: 45903.7031 - val_loss: 48149.0526 - val_mae: 48149.0547\nEpoch 51/100\n10073/10073 [==============================] - 1s 92us/step - loss: 45412.6103 - mae: 45412.6172 - val_loss: 47930.5598 - val_mae: 47930.5664\nEpoch 52/100\n10073/10073 [==============================] - 1s 91us/step - loss: 46052.6965 - mae: 46052.6875 - val_loss: 47483.7178 - val_mae: 47483.7148\nEpoch 53/100\n10073/10073 [==============================] - 1s 93us/step - loss: 45814.6208 - mae: 45814.6172 - val_loss: 47338.8869 - val_mae: 47338.8906\nEpoch 54/100\n10073/10073 [==============================] - 1s 92us/step - loss: 45818.8079 - mae: 45818.8203 - val_loss: 48430.5541 - val_mae: 48430.5508\nEpoch 55/100\n10073/10073 [==============================] - 1s 93us/step - loss: 45660.7031 - mae: 45660.7070 - val_loss: 47372.5722 - val_mae: 47372.5742\nEpoch 56/100\n10073/10073 [==============================] - 1s 96us/step - loss: 45408.5700 - mae: 45408.5625 - val_loss: 47153.4345 - val_mae: 47153.4336\nEpoch 57/100\n10073/10073 [==============================] - 1s 92us/step - loss: 45579.8247 - mae: 45579.8164 - val_loss: 48827.5684 - val_mae: 48827.5625\nEpoch 58/100\n10073/10073 [==============================] - 1s 94us/step - loss: 45415.3729 - mae: 45415.3945 - val_loss: 47495.8190 - val_mae: 47495.8125\nEpoch 59/100\n10073/10073 [==============================] - 1s 93us/step - loss: 45381.8968 - mae: 45381.9062 - val_loss: 47223.9576 - val_mae: 47223.9609\nEpoch 60/100\n10073/10073 [==============================] - 1s 91us/step - loss: 45114.3897 - mae: 45114.3867 - val_loss: 47702.1628 - val_mae: 47702.1719\nEpoch 61/100\n10073/10073 [==============================] - 1s 94us/step - loss: 45223.5547 - mae: 45223.5664 - val_loss: 48636.9263 - val_mae: 48636.9219\nEpoch 62/100\n10073/10073 [==============================] - 1s 94us/step - loss: 44937.2415 - mae: 44937.2422 - val_loss: 49099.4376 - val_mae: 49099.4336\nEpoch 63/100\n10073/10073 [==============================] - 1s 92us/step - loss: 44996.2305 - mae: 44996.2383 - val_loss: 47522.5438 - val_mae: 47522.5391\nEpoch 64/100\n10073/10073 [==============================] - 1s 93us/step - loss: 44911.0640 - mae: 44911.0664 - val_loss: 47438.9905 - val_mae: 47438.9922\nEpoch 65/100\n10073/10073 [==============================] - 1s 90us/step - loss: 44670.3858 - mae: 44670.3906 - val_loss: 46982.7344 - val_mae: 46982.7344\nEpoch 66/100\n10073/10073 [==============================] - 1s 91us/step - loss: 44811.5164 - mae: 44811.5078 - val_loss: 46818.3415 - val_mae: 46818.3398\nEpoch 67/100\n10073/10073 [==============================] - 1s 93us/step - loss: 44766.4838 - mae: 44766.4766 - val_loss: 47430.3380 - val_mae: 47430.3359\nEpoch 68/100\n10073/10073 [==============================] - 1s 92us/step - loss: 44567.8229 - mae: 44567.8281 - val_loss: 47401.6184 - val_mae: 47401.6172\nEpoch 69/100\n10073/10073 [==============================] - 1s 91us/step - loss: 45163.2133 - mae: 45163.2148 - val_loss: 47232.5158 - val_mae: 47232.5195\nEpoch 70/100\n10073/10073 [==============================] - 1s 91us/step - loss: 44785.3801 - mae: 44785.3789 - val_loss: 47559.2435 - val_mae: 47559.2422\nEpoch 71/100\n10073/10073 [==============================] - 1s 94us/step - loss: 44467.4046 - mae: 44467.4023 - val_loss: 47927.5810 - val_mae: 47927.5859\nEpoch 72/100\n10073/10073 [==============================] - 1s 95us/step - loss: 44594.1261 - mae: 44594.1289 - val_loss: 47362.8077 - val_mae: 47362.8125\nEpoch 73/100\n10073/10073 [==============================] - 1s 93us/step - loss: 44470.1636 - mae: 44470.1562 - val_loss: 48226.6832 - val_mae: 48226.6875\nEpoch 74/100\n10073/10073 [==============================] - 1s 95us/step - loss: 44652.2946 - mae: 44652.3008 - val_loss: 47360.3606 - val_mae: 47360.3555\nEpoch 75/100\n10073/10073 [==============================] - 1s 91us/step - loss: 44575.4165 - mae: 44575.4102 - val_loss: 47659.4310 - val_mae: 47659.4336\nEpoch 76/100\n10073/10073 [==============================] - 1s 94us/step - loss: 44650.8228 - mae: 44650.8281 - val_loss: 46856.2921 - val_mae: 46856.2930\nEpoch 77/100\n10073/10073 [==============================] - 1s 91us/step - loss: 44481.7267 - mae: 44481.7422 - val_loss: 46682.0269 - val_mae: 46682.0312\nEpoch 78/100\n10073/10073 [==============================] - 1s 94us/step - loss: 44303.5422 - mae: 44303.5586 - val_loss: 46689.0038 - val_mae: 46689.0000\nEpoch 79/100\n10073/10073 [==============================] - 1s 95us/step - loss: 44158.0406 - mae: 44158.0352 - val_loss: 46720.9363 - val_mae: 46720.9375\nEpoch 80/100\n10073/10073 [==============================] - 1s 94us/step - loss: 43883.2997 - mae: 43883.2891 - val_loss: 47125.9308 - val_mae: 47125.9258\nEpoch 81/100\n10073/10073 [==============================] - 1s 88us/step - loss: 44692.3766 - mae: 44692.3750 - val_loss: 47146.4825 - val_mae: 47146.4844\nEpoch 82/100\n10073/10073 [==============================] - 1s 90us/step - loss: 44533.2431 - mae: 44533.2539 - val_loss: 46780.8645 - val_mae: 46780.8633\nEpoch 83/100\n10073/10073 [==============================] - 1s 90us/step - loss: 44083.5954 - mae: 44083.5859 - val_loss: 46451.8057 - val_mae: 46451.8047\nEpoch 84/100\n10073/10073 [==============================] - 1s 89us/step - loss: 44180.7851 - mae: 44180.7891 - val_loss: 47020.5936 - val_mae: 47020.6016\nEpoch 85/100\n10073/10073 [==============================] - 1s 91us/step - loss: 44135.6259 - mae: 44135.6133 - val_loss: 48194.7943 - val_mae: 48194.7930\nEpoch 86/100\n10073/10073 [==============================] - 1s 89us/step - loss: 44380.5454 - mae: 44380.5469 - val_loss: 48780.9077 - val_mae: 48780.9023\nEpoch 87/100\n10073/10073 [==============================] - 1s 91us/step - loss: 43988.0866 - mae: 43988.0977 - val_loss: 47165.2346 - val_mae: 47165.2305\nEpoch 88/100\n10073/10073 [==============================] - 1s 94us/step - loss: 43880.7000 - mae: 43880.6992 - val_loss: 47657.5001 - val_mae: 47657.5000\nEpoch 89/100\n10073/10073 [==============================] - 1s 91us/step - loss: 43816.7723 - mae: 43816.7617 - val_loss: 47617.0743 - val_mae: 47617.0742\nEpoch 90/100\n10073/10073 [==============================] - 1s 94us/step - loss: 44358.6789 - mae: 44358.6953 - val_loss: 48142.6148 - val_mae: 48142.6055\nEpoch 91/100\n10073/10073 [==============================] - 1s 93us/step - loss: 43941.0940 - mae: 43941.0898 - val_loss: 46819.5305 - val_mae: 46819.5273\nEpoch 92/100\n10073/10073 [==============================] - 1s 90us/step - loss: 44579.5034 - mae: 44579.5000 - val_loss: 46496.3188 - val_mae: 46496.3164\nEpoch 93/100\n10073/10073 [==============================] - 1s 94us/step - loss: 44231.2007 - mae: 44231.2148 - val_loss: 47332.5477 - val_mae: 47332.5469\nEpoch 94/100\n10073/10073 [==============================] - 1s 90us/step - loss: 43625.9410 - mae: 43625.9375 - val_loss: 47070.5065 - val_mae: 47070.5078\nEpoch 95/100\n10073/10073 [==============================] - 1s 90us/step - loss: 43855.2883 - mae: 43855.2773 - val_loss: 47894.5842 - val_mae: 47894.5781\nEpoch 96/100\n10073/10073 [==============================] - 1s 95us/step - loss: 43780.9115 - mae: 43780.9062 - val_loss: 49877.2758 - val_mae: 49877.2812\nEpoch 97/100\n10073/10073 [==============================] - 1s 95us/step - loss: 43861.5491 - mae: 43861.5508 - val_loss: 46865.5475 - val_mae: 46865.5391\nEpoch 98/100\n10073/10073 [==============================] - 1s 93us/step - loss: 43744.1483 - mae: 43744.1562 - val_loss: 47784.0275 - val_mae: 47784.0273\nEpoch 99/100\n10073/10073 [==============================] - 1s 92us/step - loss: 44066.7602 - mae: 44066.7773 - val_loss: 46399.5232 - val_mae: 46399.5273\nEpoch 100/100\n10073/10073 [==============================] - 1s 94us/step - loss: 43531.4851 - mae: 43531.4883 - val_loss: 46757.2747 - val_mae: 46757.2773\n"
    },
    {
     "output_type": "execute_result",
     "data": {
      "text/plain": "<keras.callbacks.callbacks.History at 0x7f4225198da0>"
     },
     "metadata": {},
     "execution_count": 75
    }
   ],
   "source": [
    "model.fit(X_train, y_train, validation_split=0.1, epochs=100, batch_size=50, verbose=1)"
   ]
  },
  {
   "cell_type": "code",
   "execution_count": 76,
   "metadata": {},
   "outputs": [
    {
     "output_type": "stream",
     "name": "stdout",
     "text": "Mean Absolute Error: 45812.655696454094\nMean Squared Error: 5406799456.556153\nRoot Mean Squared Error: 73530.94217100821\n"
    }
   ],
   "source": [
    "y_pred = model.predict(X_test)\n",
    "\n",
    "ourMAE = metrics.mean_absolute_error(y_test, y_pred)\n",
    "\n",
    "print('Mean Absolute Error:', ourMAE)  \n",
    "print('Mean Squared Error:', metrics.mean_squared_error(y_test, y_pred))  \n",
    "print(\"Root Mean Squared Error:\", np.sqrt(metrics.mean_squared_error(y_test, y_pred)))"
   ]
  },
  {
   "cell_type": "code",
   "execution_count": 77,
   "metadata": {},
   "outputs": [
    {
     "output_type": "stream",
     "name": "stdout",
     "text": "Zillow Mean Absolute Error: 44800.798621756876\nZillow Mean Squared Error: 8888093062.314123\nZillow Root Mean Squared Error: 94276.68355597858\n"
    }
   ],
   "source": [
    "zillowMAE = metrics.mean_absolute_error(zillowPred[\"totPurchaseAmt\"], zillowPred[\"zestimate\"])\n",
    "\n",
    "print(\"Zillow Mean Absolute Error:\", zillowMAE)\n",
    "print(\"Zillow Mean Squared Error:\", metrics.mean_squared_error(zillowPred[\"totPurchaseAmt\"], zillowPred[\"zestimate\"]))\n",
    "print(\"Zillow Root Mean Squared Error:\", np.sqrt(metrics.mean_squared_error(zillowPred[\"totPurchaseAmt\"], zillowPred[\"zestimate\"])))"
   ]
  },
  {
   "cell_type": "code",
   "execution_count": 78,
   "metadata": {},
   "outputs": [
    {
     "output_type": "stream",
     "name": "stdout",
     "text": "Error off Zillow Predictions: 1011.8570746972182\n"
    }
   ],
   "source": [
    "print(\"Error off Zillow Predictions:\", ourMAE-zillowMAE)"
   ]
  }
 ],
 "metadata": {
  "language_info": {
   "codemirror_mode": {
    "name": "ipython",
    "version": 3
   },
   "file_extension": ".py",
   "mimetype": "text/x-python",
   "name": "python",
   "nbconvert_exporter": "python",
   "pygments_lexer": "ipython3",
   "version": "3.7.3-final"
  },
  "orig_nbformat": 2,
  "kernelspec": {
   "name": "python37364bitbasecondac5e7c4384349446e91eb579ae2633ccb",
   "display_name": "Python 3.7.3 64-bit ('base': conda)"
  }
 },
 "nbformat": 4,
 "nbformat_minor": 2
}