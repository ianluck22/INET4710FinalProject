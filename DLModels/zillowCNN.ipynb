{
 "cells": [
  {
   "cell_type": "markdown",
   "metadata": {},
   "source": [
    "# Price Prediction based off Zillow Cover Image\n",
    "\n",
    "Uses VGG16 architecture to predict the price of a house given an image of it."
   ]
  },
  {
   "cell_type": "code",
   "execution_count": null,
   "metadata": {
    "collapsed": true
   },
   "outputs": [],
   "source": [
    "# Imports and loading the data\n",
    "\n",
    "import pandas as pd \n",
    "pd.set_option('display.max_columns', None)\n",
    "data = pd.read_csv(\"imageFilenames.csv\")\n",
    "data.head()"
   ]
  },
  {
   "cell_type": "code",
   "execution_count": null,
   "metadata": {
    "collapsed": true,
    "tags": [
     "outputPrepend",
     "outputPrepend",
     "outputPrepend",
     "outputPrepend",
     "outputPrepend",
     "outputPrepend",
     "outputPrepend",
     "outputPrepend",
     "outputPrepend",
     "outputPrepend",
     "outputPrepend",
     "outputPrepend",
     "outputPrepend",
     "outputPrepend",
     "outputPrepend",
     "outputPrepend",
     "outputPrepend",
     "outputPrepend",
     "outputPrepend",
     "outputPrepend",
     "outputPrepend",
     "outputPrepend",
     "outputPrepend",
     "outputPrepend",
     "outputPrepend",
     "outputPrepend",
     "outputPrepend",
     "outputPrepend",
     "outputPrepend",
     "outputPrepend",
     "outputPrepend",
     "outputPrepend",
     "outputPrepend",
     "outputPrepend",
     "outputPrepend",
     "outputPrepend",
     "outputPrepend",
     "outputPrepend",
     "outputPrepend",
     "outputPrepend",
     "outputPrepend"
    ]
   },
   "outputs": [],
   "source": [
    "from PIL import Image\n",
    "import numpy as np\n",
    "\n",
    "# Want to know how we should format the height x width image data dimensions\n",
    "# for inputting to a keras model\n",
    "def get_size_statistics(data):\n",
    "    heights = []\n",
    "    widths = []\n",
    "    img_count = 0\n",
    "    for i, row in data.iterrows():\n",
    "        if row[\"imgFilepath\"] != \"no photo\" or row[\"imgFilepath\"] != np.nan:\n",
    "            try:\n",
    "                imgData = np.array(Image.open(row[\"imgFilepath\"]))\n",
    "                heights.append(imgData.shape[0])\n",
    "                widths.append(imgData.shape[1])\n",
    "                img_count += 1\n",
    "            except:\n",
    "                data.at[i, \"imgFilepath\"] = \"no photo\"\n",
    "    avg_height = sum(heights) / len(heights)\n",
    "    avg_width = sum(widths) / len(widths)\n",
    "    print(\"Average Height: \" + str(avg_height))\n",
    "    print(\"Max Height: \" + str(max(heights)))\n",
    "    print(\"Min Height: \" + str(min(heights)))\n",
    "    print('\\n')\n",
    "    print(\"Average Width: \" + str(avg_width))\n",
    "    print(\"Max Width: \" + str(max(widths)))\n",
    "    print(\"Min Width: \" + str(min(widths)))\n",
    "\n",
    "get_size_statistics(data)"
   ]
  },
  {
   "cell_type": "code",
   "execution_count": null,
   "metadata": {
    "collapsed": true
   },
   "outputs": [],
   "source": [
    "# Cleaning the data\n",
    "\n",
    "noPhotoIndx = data[data[\"imgFilepath\"] == \"no photo\"].index \n",
    "\n",
    "data.drop(noPhotoIndx, inplace=True)\n",
    "\n",
    "data = data[data[\"totPurchaseAmt\"] >= 50000]\n",
    "data = data[data[\"totPurchaseAmt\"] <= 5000000]\n",
    "\n",
    "data = data[data[\"yearBuilt\"] <= 2020]\n",
    "data = data[data[\"yearBuilt\"] >= 1940]\n",
    "\n",
    "data = data[data[\"zipcode\"] <= 56763]\n",
    "data = data[data[\"zipcode\"] >= 55001]\n",
    "\n",
    "data = data[data[\"livingArea\"] <= 30000]\n",
    "data = data[data[\"livingArea\"] >= 1000]\n",
    "\n",
    "data.drop_duplicates(\"mediumImageLink\", keep = \"first\", inplace = True)\n",
    "\n",
    "data = data[[\"totPurchaseAmt\", \"imgFilepath\"]]\n",
    "\n",
    "data.dropna(inplace=True)\n"
   ]
  },
  {
   "cell_type": "markdown",
   "metadata": {},
   "source": [
    "# Data Description"
   ]
  },
  {
   "cell_type": "code",
   "execution_count": null,
   "metadata": {
    "collapsed": true
   },
   "outputs": [],
   "source": [
    "data.shape"
   ]
  },
  {
   "cell_type": "code",
   "execution_count": null,
   "metadata": {
    "collapsed": true
   },
   "outputs": [],
   "source": [
    "data.describe()"
   ]
  },
  {
   "cell_type": "code",
   "execution_count": null,
   "metadata": {
    "collapsed": true
   },
   "outputs": [],
   "source": [
    "data.head()"
   ]
  },
  {
   "cell_type": "markdown",
   "metadata": {},
   "source": [
    "# Loading and Resizing Images"
   ]
  },
  {
   "cell_type": "code",
   "execution_count": null,
   "metadata": {
    "collapsed": true,
    "tags": [
     "outputPrepend",
     "outputPrepend",
     "outputPrepend",
     "outputPrepend",
     "outputPrepend",
     "outputPrepend",
     "outputPrepend",
     "outputPrepend"
    ]
   },
   "outputs": [],
   "source": [
    "IMG_SIZE = 224\n",
    "\n",
    "def resizeAndLoadData(data):\n",
    "    imageData = []\n",
    "    for i, row in data.iterrows():\n",
    "        img = Image.open(row[\"imgFilepath\"])\n",
    "        img = img.resize((IMG_SIZE, IMG_SIZE))\n",
    "        imageData.append(np.array(img))\n",
    "    data[\"imgData\"] = imageData\n",
    "\n",
    "resizeAndLoadData(data)"
   ]
  },
  {
   "cell_type": "code",
   "execution_count": null,
   "metadata": {
    "collapsed": true
   },
   "outputs": [],
   "source": [
    "data.head(1)"
   ]
  },
  {
   "cell_type": "markdown",
   "metadata": {},
   "source": [
    "# Create Train and Test Sets"
   ]
  },
  {
   "cell_type": "code",
   "execution_count": null,
   "metadata": {
    "collapsed": true
   },
   "outputs": [],
   "source": [
    "from sklearn.model_selection import train_test_split\n",
    "from keras.utils import to_categorical\n",
    "X = np.array(data[\"imgData\"])\n",
    "#y = to_categorical(data[\"amtBucketNum\"], num_classes=len(bucketList)) # Try bucketing, didn't have as good of results\n",
    "y = data[\"totPurchaseAmt\"]\n",
    "\n",
    "X_train, X_test, y_train, y_test = train_test_split(X, y, test_size=0.2, random_state=42)"
   ]
  },
  {
   "cell_type": "code",
   "execution_count": null,
   "metadata": {
    "collapsed": true
   },
   "outputs": [],
   "source": [
    "import matplotlib.pyplot as plt\n",
    "plt.imshow(X[0]) # Show the first image"
   ]
  },
  {
   "cell_type": "code",
   "execution_count": null,
   "metadata": {},
   "outputs": [],
   "source": [
    "y[0] # Show the image's price"
   ]
  },
  {
   "cell_type": "markdown",
   "metadata": {},
   "source": [
    "# Neural Network"
   ]
  },
  {
   "cell_type": "code",
   "execution_count": null,
   "metadata": {
    "collapsed": true
   },
   "outputs": [],
   "source": [
    "import keras\n",
    "from keras.models import Sequential\n",
    "from keras.layers import Dense, Dropout, Flatten\n",
    "from keras.layers import Conv2D, MaxPooling2D\n",
    "from keras.layers.normalization import BatchNormalization"
   ]
  },
  {
   "cell_type": "code",
   "execution_count": null,
   "metadata": {
    "collapsed": true
   },
   "outputs": [],
   "source": [
    "from keras import applications\n",
    "\n",
    "vggModel = Sequential()\n",
    "\n",
    "vggModel.add(applications.VGG16(weights=\"imagenet\", input_shape=(IMG_SIZE, IMG_SIZE, 3), include_top=False)) # Import the VGG network with imagenet weights\n",
    "\n",
    "vggModel.add(Flatten(input_shape=vggModel.output_shape[1:]))\n",
    "vggModel.add(Dropout(.1)) # add dropout to prevent overfitting\n",
    "vggModel.add(Dense(1, activation=\"linear\")) # output price prediction\n",
    "\n",
    "vggModel.summary()"
   ]
  },
  {
   "cell_type": "code",
   "execution_count": null,
   "metadata": {
    "collapsed": true
   },
   "outputs": [],
   "source": [
    "vggModel.compile(loss='mean_squared_error', optimizer='adam', metrics = ['mae']) # monitor MAE during training process, use MSE loss function"
   ]
  },
  {
   "cell_type": "code",
   "execution_count": null,
   "metadata": {
    "collapsed": true
   },
   "outputs": [],
   "source": [
    "X_train = np.array([i for i in X_train]).reshape(-1, IMG_SIZE, IMG_SIZE, 3) # Get images in right format\n",
    "\n",
    "\n",
    "vggModel.fit(X_train, y_train, batch_size=50, epochs=100, verbose=1, validation_split=0.1) # Fit with a 10% validation set"
   ]
  },
  {
   "cell_type": "code",
   "execution_count": null,
   "metadata": {
    "collapsed": true
   },
   "outputs": [],
   "source": [
    "X_test = np.array([i for i in X_test]).reshape(-1, IMG_SIZE, IMG_SIZE, 3) # Get test images in right format\n",
    "\n",
    "loss, mae = vggModel.evaluate(X_test, y_test, verbose=1) # Test our model\n",
    "\n",
    "print(\"Loss (MSE): \", loss)\n",
    "print(\"MAE: \", mae)"
   ]
  },
  {
   "cell_type": "code",
   "execution_count": null,
   "metadata": {
    "collapsed": true
   },
   "outputs": [],
   "source": [
    "vggModel.save(\"ZillowCNN.h5\") # Save Model"
   ]
  },
  {
   "cell_type": "code",
   "execution_count": null,
   "metadata": {},
   "outputs": [],
   "source": []
  }
 ],
 "metadata": {
  "kernelspec": {
   "display_name": "Python 3.7.3 64-bit ('base': conda)",
   "language": "python",
   "name": "python37364bitbasecondac5e7c4384349446e91eb579ae2633ccb"
  },
  "language_info": {
   "codemirror_mode": {
    "name": "ipython",
    "version": 3
   },
   "file_extension": ".py",
   "mimetype": "text/x-python",
   "name": "python",
   "nbconvert_exporter": "python",
   "pygments_lexer": "ipython3",
   "version": "3.7.3-final"
  }
 },
 "nbformat": 4,
 "nbformat_minor": 2
}