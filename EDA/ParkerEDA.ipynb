{
 "cells": [
  {
   "cell_type": "code",
   "execution_count": null,
   "metadata": {
    "collapsed": false
   },
   "outputs": [],
   "source": [
    "import pandas as pd \n",
    "pd.set_option('display.max_columns', None)\n",
    "data = pd.read_csv(\"../DLModels/dataWithImagePaths.csv\") # Load Data\n",
    "data.head()"
   ]
  },
  {
   "cell_type": "code",
   "execution_count": null,
   "metadata": {},
   "outputs": [],
   "source": [
    "noPhotoIndx = data[data[\"imgFilepath\"] == \"no photo\"].index  # Drop data that we don't use\n",
    "\n",
    "data.drop(noPhotoIndx, inplace=True)\n",
    "\n",
    "data = data[data[\"totPurchaseAmt\"] >= 50000]\n",
    "data = data[data[\"totPurchaseAmt\"] <= 5000000]\n",
    "\n",
    "data = data[data[\"yearBuilt\"] <= 2020]\n",
    "data = data[data[\"yearBuilt\"] >= 1940]\n",
    "\n",
    "data = data[data[\"zipcode\"] <= 56763]\n",
    "data = data[data[\"zipcode\"] >= 55001]\n",
    "\n",
    "data = data[data[\"livingArea\"] <= 30000]\n",
    "data = data[data[\"livingArea\"] >= 1000]\n",
    "\n",
    "data.drop_duplicates(\"mediumImageLink\", keep = \"first\", inplace = True)\n",
    "\n",
    "# df = pd.get_dummies(data=df, columns=[\"bathrooms\", \"bedrooms\", \"yearBuilt\", \"zipcode\"])"
   ]
  },
  {
   "cell_type": "code",
   "execution_count": null,
   "metadata": {
    "collapsed": false
   },
   "outputs": [],
   "source": [
    "data.describe() # Describe it"
   ]
  },
  {
   "cell_type": "code",
   "execution_count": null,
   "metadata": {
    "collapsed": false
   },
   "outputs": [],
   "source": [
    "data.shape"
   ]
  },
  {
   "cell_type": "code",
   "execution_count": null,
   "metadata": {},
   "outputs": [],
   "source": [
    "numListings = data.groupby('zipcode').count()"
   ]
  },
  {
   "cell_type": "code",
   "execution_count": null,
   "metadata": {},
   "outputs": [],
   "source": [
    "numListingsByZip = pd.DataFrame()\n",
    "\n",
    "numListingsByZip[\"zipcode\"] = [str(i) for i in numListings.index]\n",
    "numListingsByZip[\"numListings\"] = numListings[\"totPurchaseAmt\"].values\n",
    "\n",
    "numListingsByZip"
   ]
  },
  {
   "cell_type": "code",
   "execution_count": null,
   "metadata": {},
   "outputs": [],
   "source": [
    "import folium\n",
    "from folium import plugins\n",
    "import requests\n",
    "\n",
    "jsonData = requests.get(\"https://raw.githubusercontent.com/OpenDataDE/State-zip-code-GeoJSON/master/mn_minnesota_zip_codes_geo.min.json\")\n",
    "mnArea = jsonData.json()"
   ]
  },
  {
   "cell_type": "code",
   "execution_count": null,
   "metadata": {},
   "outputs": [],
   "source": [
    "mnMap = folium.Map(location=[44.9778, -93.2650], tiles=\"Stamen Toner\", zoom_start=10)\n",
    "\n",
    "mnMap.choropleth(geo_data=mnArea, data=numListingsByZip, columns=[\"zipcode\", \"numListings\"], key_on='feature.properties.ZCTA5CE10', fill_color='YlGn', fill_opacity=1)\n",
    "\n",
    "mnMap"
   ]
  },
  {
   "cell_type": "code",
   "execution_count": null,
   "metadata": {},
   "outputs": [],
   "source": []
  }
 ],
 "metadata": {
  "kernelspec": {
   "display_name": "Python 3.6.9 64-bit",
   "language": "python",
   "name": "python36964bit5e4270a542e54d6788076e0986af2669"
  },
  "language_info": {
   "codemirror_mode": {
    "name": "ipython",
    "version": 3
   },
   "file_extension": ".py",
   "mimetype": "text/x-python",
   "name": "python",
   "nbconvert_exporter": "python",
   "pygments_lexer": "ipython3",
   "version": "3.6.9-final"
  }
 },
 "nbformat": 4,
 "nbformat_minor": 2
}