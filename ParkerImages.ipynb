{
 "cells": [
  {
   "cell_type": "code",
   "execution_count": 1,
   "metadata": {},
   "outputs": [
    {
     "output_type": "execute_result",
     "data": {
      "text/plain": "   totPurchaseAmt                 street1      zip  \\\n0        152000.0      538 78th Avenue NE  55432.0   \n1        198000.0      14649 Iodine Ct NW  55303.0   \n2        130000.0    10921 Dogwood Street  55448.0   \n3        415000.0  16931 Helium Street NW  55303.0   \n4        329900.0     2372 Tart Lake Road  55038.0   \n\n                       property  \\\n0      538 78th Avenue NE 55432   \n1      14649 Iodine Ct NW 55303   \n2    10921 Dogwood Street 55448   \n3  16931 Helium Street NW 55303   \n4     2372 Tart Lake Road 55038   \n\n                                           ZillowURL      zpid  \\\n0  https://www.zillow.com/homedetails/538-78th-Av...   1475959   \n1  https://www.zillow.com/homedetails/14649-Iodin...   1539563   \n2  https://www.zillow.com/homedetails/10921-Dogwo...   1503295   \n3  https://www.zillow.com/homedetails/16931-Heliu...   1500884   \n4  https://www.zillow.com/homedetails/2372-Tart-L...  55182405   \n\n         streetAddress  zipcode              city state   latitude  longitude  \\\n0      538 78th Ave NE    55432  Spring Lake Park    MN  45.108779 -93.257808   \n1   14649 Iodine Ct NW    55303            Ramsey    MN  45.237189 -93.409535   \n2  10921 Dogwood St NW    55448       Coon Rapids    MN  45.168138 -93.271746   \n3   16931 Helium St NW    55303            Ramsey    MN  45.278217 -93.407533   \n4    2372 Tart Lake Rd    55038        Lino Lakes    MN  45.143781 -93.021604   \n\n        dateSold  bathrooms  bedrooms  livingArea  yearBuilt  lotSize  \\\n0  1569308400000        1.0       2.0      1300.0       1984     1225   \n1  1568271600000        2.0       4.0      1716.0       1996    10716   \n2  1566889200000        2.0       4.0       864.0       1963    12100   \n3  1571209200000        2.0       3.0      3108.0       1985   120225   \n4  1571036400000        3.0       4.0      1814.0       2001    10018   \n\n        homeType     homeStatus  photoCount  \\\n0          CONDO  RECENTLY_SOLD           4   \n1  SINGLE_FAMILY  RECENTLY_SOLD           0   \n2  SINGLE_FAMILY  RECENTLY_SOLD           0   \n3  SINGLE_FAMILY  RECENTLY_SOLD          30   \n4  SINGLE_FAMILY  RECENTLY_SOLD           0   \n\n                                           imageLink  daysOnZillow  \\\n0  https://photos.zillowstatic.com/p_g/IS1fwt0hhf...           174   \n1  https://www.zillowstatic.com/static/images/nop...           215   \n2  https://www.zillowstatic.com/static/images/nop...           179   \n3  https://photos.zillowstatic.com/p_g/IS72penoji...           181   \n4  https://www.zillowstatic.com/static/images/nop...           176   \n\n   isFeatured  shouldHighlight  brokerId  zestimate  rentZestimate  \\\n0       False            False         0   158110.0         1150.0   \n1       False            False         0   285985.0         1775.0   \n2       False            False         0   132773.0         1675.0   \n3       False            False         0   431995.0         2349.0   \n4       False            False         0   318162.0         1775.0   \n\n   listing_sub_type priceReduction  isUnmappable  rentalPetsFlags  \\\n0               NaN            NaN         False             64.0   \n1               NaN            NaN         False            192.0   \n2               NaN            NaN         False             64.0   \n3               NaN            NaN         False            192.0   \n4               NaN            NaN         False            192.0   \n\n                                     mediumImageLink  isPreforeclosureAuction  \\\n0  https://photos.zillowstatic.com/p_c/IS1fwt0hhf...                    False   \n1  https://www.zillowstatic.com/static/images/nop...                    False   \n2  https://www.zillowstatic.com/static/images/nop...                    False   \n3  https://photos.zillowstatic.com/p_c/IS72penoji...                    False   \n4  https://www.zillowstatic.com/static/images/nop...                    False   \n\n  homeStatusForHDP  festimate  isListingOwnedByCurrentSignedInAgent  \\\n0    RECENTLY_SOLD   158110.0                                 False   \n1    RECENTLY_SOLD   285985.0                                 False   \n2    RECENTLY_SOLD   132773.0                                 False   \n3    RECENTLY_SOLD   431995.0                                 False   \n4    RECENTLY_SOLD   318162.0                                 False   \n\n   isListingClaimedByCurrentSignedInUser  \\\n0                                  False   \n1                                  False   \n2                                  False   \n3                                  False   \n4                                  False   \n\n                                      hiResImageLink  \\\n0  https://photos.zillowstatic.com/p_f/IS1fwt0hhf...   \n1  https://www.zillowstatic.com/static/images/nop...   \n2  https://www.zillowstatic.com/static/images/nop...   \n3  https://photos.zillowstatic.com/p_f/IS72penoji...   \n4  https://www.zillowstatic.com/static/images/nop...   \n\n                                      watchImageLink  \\\n0  https://photos.zillowstatic.com/p_j/IS1fwt0hhf...   \n1  https://www.zillowstatic.com/static/images/nop...   \n2  https://www.zillowstatic.com/static/images/nop...   \n3  https://photos.zillowstatic.com/p_j/IS72penoji...   \n4  https://www.zillowstatic.com/static/images/nop...   \n\n                                         tvImageLink  \\\n0  https://photos.zillowstatic.com/p_m/IS1fwt0hhf...   \n1  https://www.zillowstatic.com/static/images/nop...   \n2  https://www.zillowstatic.com/static/images/nop...   \n3  https://photos.zillowstatic.com/p_m/IS72penoji...   \n4  https://www.zillowstatic.com/static/images/nop...   \n\n                               tvCollectionImageLink  \\\n0  https://photos.zillowstatic.com/p_l/IS1fwt0hhf...   \n1  https://www.zillowstatic.com/static/images/nop...   \n2  https://www.zillowstatic.com/static/images/nop...   \n3  https://photos.zillowstatic.com/p_l/IS72penoji...   \n4  https://www.zillowstatic.com/static/images/nop...   \n\n                                  tvHighResImageLink  zillowHasRightsToImages  \\\n0  https://photos.zillowstatic.com/p_n/IS1fwt0hhf...                     True   \n1  https://www.zillowstatic.com/static/images/nop...                     True   \n2  https://www.zillowstatic.com/static/images/nop...                     True   \n3  https://photos.zillowstatic.com/p_n/IS72penoji...                     True   \n4  https://www.zillowstatic.com/static/images/nop...                     True   \n\n                              desktopWebHdpImageLink isNonOwnerOccupied  \\\n0  https://photos.zillowstatic.com/p_h/IS1fwt0hhf...                NaN   \n1  https://www.zillowstatic.com/static/images/nop...                NaN   \n2  https://www.zillowstatic.com/static/images/nop...              False   \n3  https://photos.zillowstatic.com/p_h/IS72penoji...                NaN   \n4  https://www.zillowstatic.com/static/images/nop...                NaN   \n\n   hideZestimate  isPremierBuilder  isZillowOwned currency country  \\\n0          False             False          False      USD     USA   \n1          False             False          False      USD     USA   \n2          False             False          False      USD     USA   \n3          False             False          False      USD     USA   \n4          False             False          False      USD     USA   \n\n   taxAssessedValue    streetAddressOnly unit  averageSchoolRating  \\\n0              -1.0      538 78th Ave NE                  4.000000   \n1              -1.0   14649 Iodine Ct NW                  5.333333   \n2              -1.0  10921 Dogwood St NW                  5.666667   \n3              -1.0   16931 Helium St NW                  6.333333   \n4              -1.0    2372 Tart Lake Rd                  6.500000   \n\n                                         description     price  priceForHDP  \\\n0  Just move in! End unit, deck, double garage, w...  152000.0     152000.0   \n1  14649 Iodine Ct NW, Ramsey, MN is a single fam...  198000.0     198000.0   \n2  10921 Dogwood St NW, Coon Rapids, MN is a sing...  130000.0     130000.0   \n3  Stunning walk to Rum River and Creek running t...  415000.0     415000.0   \n4  2372 Tart Lake Rd, Lino Lakes, MN is a single ...  305657.0     305657.0   \n\n   hoaFee  contactPhone     status  \n0   230.0           NaN  Completed  \n1     NaN           NaN  Completed  \n2     NaN           NaN  Completed  \n3     NaN           NaN  Completed  \n4     NaN           NaN  Completed  ",
      "text/html": "<div>\n<style scoped>\n    .dataframe tbody tr th:only-of-type {\n        vertical-align: middle;\n    }\n\n    .dataframe tbody tr th {\n        vertical-align: top;\n    }\n\n    .dataframe thead th {\n        text-align: right;\n    }\n</style>\n<table border=\"1\" class=\"dataframe\">\n  <thead>\n    <tr style=\"text-align: right;\">\n      <th></th>\n      <th>totPurchaseAmt</th>\n      <th>street1</th>\n      <th>zip</th>\n      <th>property</th>\n      <th>ZillowURL</th>\n      <th>zpid</th>\n      <th>streetAddress</th>\n      <th>zipcode</th>\n      <th>city</th>\n      <th>state</th>\n      <th>latitude</th>\n      <th>longitude</th>\n      <th>dateSold</th>\n      <th>bathrooms</th>\n      <th>bedrooms</th>\n      <th>livingArea</th>\n      <th>yearBuilt</th>\n      <th>lotSize</th>\n      <th>homeType</th>\n      <th>homeStatus</th>\n      <th>photoCount</th>\n      <th>imageLink</th>\n      <th>daysOnZillow</th>\n      <th>isFeatured</th>\n      <th>shouldHighlight</th>\n      <th>brokerId</th>\n      <th>zestimate</th>\n      <th>rentZestimate</th>\n      <th>listing_sub_type</th>\n      <th>priceReduction</th>\n      <th>isUnmappable</th>\n      <th>rentalPetsFlags</th>\n      <th>mediumImageLink</th>\n      <th>isPreforeclosureAuction</th>\n      <th>homeStatusForHDP</th>\n      <th>festimate</th>\n      <th>isListingOwnedByCurrentSignedInAgent</th>\n      <th>isListingClaimedByCurrentSignedInUser</th>\n      <th>hiResImageLink</th>\n      <th>watchImageLink</th>\n      <th>tvImageLink</th>\n      <th>tvCollectionImageLink</th>\n      <th>tvHighResImageLink</th>\n      <th>zillowHasRightsToImages</th>\n      <th>desktopWebHdpImageLink</th>\n      <th>isNonOwnerOccupied</th>\n      <th>hideZestimate</th>\n      <th>isPremierBuilder</th>\n      <th>isZillowOwned</th>\n      <th>currency</th>\n      <th>country</th>\n      <th>taxAssessedValue</th>\n      <th>streetAddressOnly</th>\n      <th>unit</th>\n      <th>averageSchoolRating</th>\n      <th>description</th>\n      <th>price</th>\n      <th>priceForHDP</th>\n      <th>hoaFee</th>\n      <th>contactPhone</th>\n      <th>status</th>\n    </tr>\n  </thead>\n  <tbody>\n    <tr>\n      <th>0</th>\n      <td>152000.0</td>\n      <td>538 78th Avenue NE</td>\n      <td>55432.0</td>\n      <td>538 78th Avenue NE 55432</td>\n      <td>https://www.zillow.com/homedetails/538-78th-Av...</td>\n      <td>1475959</td>\n      <td>538 78th Ave NE</td>\n      <td>55432</td>\n      <td>Spring Lake Park</td>\n      <td>MN</td>\n      <td>45.108779</td>\n      <td>-93.257808</td>\n      <td>1569308400000</td>\n      <td>1.0</td>\n      <td>2.0</td>\n      <td>1300.0</td>\n      <td>1984</td>\n      <td>1225</td>\n      <td>CONDO</td>\n      <td>RECENTLY_SOLD</td>\n      <td>4</td>\n      <td>https://photos.zillowstatic.com/p_g/IS1fwt0hhf...</td>\n      <td>174</td>\n      <td>False</td>\n      <td>False</td>\n      <td>0</td>\n      <td>158110.0</td>\n      <td>1150.0</td>\n      <td>NaN</td>\n      <td>NaN</td>\n      <td>False</td>\n      <td>64.0</td>\n      <td>https://photos.zillowstatic.com/p_c/IS1fwt0hhf...</td>\n      <td>False</td>\n      <td>RECENTLY_SOLD</td>\n      <td>158110.0</td>\n      <td>False</td>\n      <td>False</td>\n      <td>https://photos.zillowstatic.com/p_f/IS1fwt0hhf...</td>\n      <td>https://photos.zillowstatic.com/p_j/IS1fwt0hhf...</td>\n      <td>https://photos.zillowstatic.com/p_m/IS1fwt0hhf...</td>\n      <td>https://photos.zillowstatic.com/p_l/IS1fwt0hhf...</td>\n      <td>https://photos.zillowstatic.com/p_n/IS1fwt0hhf...</td>\n      <td>True</td>\n      <td>https://photos.zillowstatic.com/p_h/IS1fwt0hhf...</td>\n      <td>NaN</td>\n      <td>False</td>\n      <td>False</td>\n      <td>False</td>\n      <td>USD</td>\n      <td>USA</td>\n      <td>-1.0</td>\n      <td>538 78th Ave NE</td>\n      <td></td>\n      <td>4.000000</td>\n      <td>Just move in! End unit, deck, double garage, w...</td>\n      <td>152000.0</td>\n      <td>152000.0</td>\n      <td>230.0</td>\n      <td>NaN</td>\n      <td>Completed</td>\n    </tr>\n    <tr>\n      <th>1</th>\n      <td>198000.0</td>\n      <td>14649 Iodine Ct NW</td>\n      <td>55303.0</td>\n      <td>14649 Iodine Ct NW 55303</td>\n      <td>https://www.zillow.com/homedetails/14649-Iodin...</td>\n      <td>1539563</td>\n      <td>14649 Iodine Ct NW</td>\n      <td>55303</td>\n      <td>Ramsey</td>\n      <td>MN</td>\n      <td>45.237189</td>\n      <td>-93.409535</td>\n      <td>1568271600000</td>\n      <td>2.0</td>\n      <td>4.0</td>\n      <td>1716.0</td>\n      <td>1996</td>\n      <td>10716</td>\n      <td>SINGLE_FAMILY</td>\n      <td>RECENTLY_SOLD</td>\n      <td>0</td>\n      <td>https://www.zillowstatic.com/static/images/nop...</td>\n      <td>215</td>\n      <td>False</td>\n      <td>False</td>\n      <td>0</td>\n      <td>285985.0</td>\n      <td>1775.0</td>\n      <td>NaN</td>\n      <td>NaN</td>\n      <td>False</td>\n      <td>192.0</td>\n      <td>https://www.zillowstatic.com/static/images/nop...</td>\n      <td>False</td>\n      <td>RECENTLY_SOLD</td>\n      <td>285985.0</td>\n      <td>False</td>\n      <td>False</td>\n      <td>https://www.zillowstatic.com/static/images/nop...</td>\n      <td>https://www.zillowstatic.com/static/images/nop...</td>\n      <td>https://www.zillowstatic.com/static/images/nop...</td>\n      <td>https://www.zillowstatic.com/static/images/nop...</td>\n      <td>https://www.zillowstatic.com/static/images/nop...</td>\n      <td>True</td>\n      <td>https://www.zillowstatic.com/static/images/nop...</td>\n      <td>NaN</td>\n      <td>False</td>\n      <td>False</td>\n      <td>False</td>\n      <td>USD</td>\n      <td>USA</td>\n      <td>-1.0</td>\n      <td>14649 Iodine Ct NW</td>\n      <td></td>\n      <td>5.333333</td>\n      <td>14649 Iodine Ct NW, Ramsey, MN is a single fam...</td>\n      <td>198000.0</td>\n      <td>198000.0</td>\n      <td>NaN</td>\n      <td>NaN</td>\n      <td>Completed</td>\n    </tr>\n    <tr>\n      <th>2</th>\n      <td>130000.0</td>\n      <td>10921 Dogwood Street</td>\n      <td>55448.0</td>\n      <td>10921 Dogwood Street 55448</td>\n      <td>https://www.zillow.com/homedetails/10921-Dogwo...</td>\n      <td>1503295</td>\n      <td>10921 Dogwood St NW</td>\n      <td>55448</td>\n      <td>Coon Rapids</td>\n      <td>MN</td>\n      <td>45.168138</td>\n      <td>-93.271746</td>\n      <td>1566889200000</td>\n      <td>2.0</td>\n      <td>4.0</td>\n      <td>864.0</td>\n      <td>1963</td>\n      <td>12100</td>\n      <td>SINGLE_FAMILY</td>\n      <td>RECENTLY_SOLD</td>\n      <td>0</td>\n      <td>https://www.zillowstatic.com/static/images/nop...</td>\n      <td>179</td>\n      <td>False</td>\n      <td>False</td>\n      <td>0</td>\n      <td>132773.0</td>\n      <td>1675.0</td>\n      <td>NaN</td>\n      <td>NaN</td>\n      <td>False</td>\n      <td>64.0</td>\n      <td>https://www.zillowstatic.com/static/images/nop...</td>\n      <td>False</td>\n      <td>RECENTLY_SOLD</td>\n      <td>132773.0</td>\n      <td>False</td>\n      <td>False</td>\n      <td>https://www.zillowstatic.com/static/images/nop...</td>\n      <td>https://www.zillowstatic.com/static/images/nop...</td>\n      <td>https://www.zillowstatic.com/static/images/nop...</td>\n      <td>https://www.zillowstatic.com/static/images/nop...</td>\n      <td>https://www.zillowstatic.com/static/images/nop...</td>\n      <td>True</td>\n      <td>https://www.zillowstatic.com/static/images/nop...</td>\n      <td>False</td>\n      <td>False</td>\n      <td>False</td>\n      <td>False</td>\n      <td>USD</td>\n      <td>USA</td>\n      <td>-1.0</td>\n      <td>10921 Dogwood St NW</td>\n      <td></td>\n      <td>5.666667</td>\n      <td>10921 Dogwood St NW, Coon Rapids, MN is a sing...</td>\n      <td>130000.0</td>\n      <td>130000.0</td>\n      <td>NaN</td>\n      <td>NaN</td>\n      <td>Completed</td>\n    </tr>\n    <tr>\n      <th>3</th>\n      <td>415000.0</td>\n      <td>16931 Helium Street NW</td>\n      <td>55303.0</td>\n      <td>16931 Helium Street NW 55303</td>\n      <td>https://www.zillow.com/homedetails/16931-Heliu...</td>\n      <td>1500884</td>\n      <td>16931 Helium St NW</td>\n      <td>55303</td>\n      <td>Ramsey</td>\n      <td>MN</td>\n      <td>45.278217</td>\n      <td>-93.407533</td>\n      <td>1571209200000</td>\n      <td>2.0</td>\n      <td>3.0</td>\n      <td>3108.0</td>\n      <td>1985</td>\n      <td>120225</td>\n      <td>SINGLE_FAMILY</td>\n      <td>RECENTLY_SOLD</td>\n      <td>30</td>\n      <td>https://photos.zillowstatic.com/p_g/IS72penoji...</td>\n      <td>181</td>\n      <td>False</td>\n      <td>False</td>\n      <td>0</td>\n      <td>431995.0</td>\n      <td>2349.0</td>\n      <td>NaN</td>\n      <td>NaN</td>\n      <td>False</td>\n      <td>192.0</td>\n      <td>https://photos.zillowstatic.com/p_c/IS72penoji...</td>\n      <td>False</td>\n      <td>RECENTLY_SOLD</td>\n      <td>431995.0</td>\n      <td>False</td>\n      <td>False</td>\n      <td>https://photos.zillowstatic.com/p_f/IS72penoji...</td>\n      <td>https://photos.zillowstatic.com/p_j/IS72penoji...</td>\n      <td>https://photos.zillowstatic.com/p_m/IS72penoji...</td>\n      <td>https://photos.zillowstatic.com/p_l/IS72penoji...</td>\n      <td>https://photos.zillowstatic.com/p_n/IS72penoji...</td>\n      <td>True</td>\n      <td>https://photos.zillowstatic.com/p_h/IS72penoji...</td>\n      <td>NaN</td>\n      <td>False</td>\n      <td>False</td>\n      <td>False</td>\n      <td>USD</td>\n      <td>USA</td>\n      <td>-1.0</td>\n      <td>16931 Helium St NW</td>\n      <td></td>\n      <td>6.333333</td>\n      <td>Stunning walk to Rum River and Creek running t...</td>\n      <td>415000.0</td>\n      <td>415000.0</td>\n      <td>NaN</td>\n      <td>NaN</td>\n      <td>Completed</td>\n    </tr>\n    <tr>\n      <th>4</th>\n      <td>329900.0</td>\n      <td>2372 Tart Lake Road</td>\n      <td>55038.0</td>\n      <td>2372 Tart Lake Road 55038</td>\n      <td>https://www.zillow.com/homedetails/2372-Tart-L...</td>\n      <td>55182405</td>\n      <td>2372 Tart Lake Rd</td>\n      <td>55038</td>\n      <td>Lino Lakes</td>\n      <td>MN</td>\n      <td>45.143781</td>\n      <td>-93.021604</td>\n      <td>1571036400000</td>\n      <td>3.0</td>\n      <td>4.0</td>\n      <td>1814.0</td>\n      <td>2001</td>\n      <td>10018</td>\n      <td>SINGLE_FAMILY</td>\n      <td>RECENTLY_SOLD</td>\n      <td>0</td>\n      <td>https://www.zillowstatic.com/static/images/nop...</td>\n      <td>176</td>\n      <td>False</td>\n      <td>False</td>\n      <td>0</td>\n      <td>318162.0</td>\n      <td>1775.0</td>\n      <td>NaN</td>\n      <td>NaN</td>\n      <td>False</td>\n      <td>192.0</td>\n      <td>https://www.zillowstatic.com/static/images/nop...</td>\n      <td>False</td>\n      <td>RECENTLY_SOLD</td>\n      <td>318162.0</td>\n      <td>False</td>\n      <td>False</td>\n      <td>https://www.zillowstatic.com/static/images/nop...</td>\n      <td>https://www.zillowstatic.com/static/images/nop...</td>\n      <td>https://www.zillowstatic.com/static/images/nop...</td>\n      <td>https://www.zillowstatic.com/static/images/nop...</td>\n      <td>https://www.zillowstatic.com/static/images/nop...</td>\n      <td>True</td>\n      <td>https://www.zillowstatic.com/static/images/nop...</td>\n      <td>NaN</td>\n      <td>False</td>\n      <td>False</td>\n      <td>False</td>\n      <td>USD</td>\n      <td>USA</td>\n      <td>-1.0</td>\n      <td>2372 Tart Lake Rd</td>\n      <td></td>\n      <td>6.500000</td>\n      <td>2372 Tart Lake Rd, Lino Lakes, MN is a single ...</td>\n      <td>305657.0</td>\n      <td>305657.0</td>\n      <td>NaN</td>\n      <td>NaN</td>\n      <td>Completed</td>\n    </tr>\n  </tbody>\n</table>\n</div>"
     },
     "metadata": {},
     "execution_count": 1
    }
   ],
   "source": [
    "import pandas as pd \n",
    "pd.set_option('display.max_columns', None)\n",
    "data = pd.read_csv(\"data.csv\")\n",
    "data.drop([\"Unnamed: 0\", \"index\"], axis=1, inplace=True)\n",
    "data.head()"
   ]
  },
  {
   "cell_type": "code",
   "execution_count": 2,
   "metadata": {},
   "outputs": [
    {
     "output_type": "execute_result",
     "data": {
      "text/plain": "(23622, 61)"
     },
     "metadata": {},
     "execution_count": 2
    }
   ],
   "source": [
    "data.shape"
   ]
  },
  {
   "cell_type": "code",
   "execution_count": 3,
   "metadata": {},
   "outputs": [],
   "source": [
    "data = data[[\"totPurchaseAmt\", \"mediumImageLink\"]]"
   ]
  },
  {
   "cell_type": "code",
   "execution_count": 4,
   "metadata": {},
   "outputs": [
    {
     "output_type": "execute_result",
     "data": {
      "text/plain": "(23622, 2)"
     },
     "metadata": {},
     "execution_count": 4
    }
   ],
   "source": [
    "data.shape"
   ]
  },
  {
   "cell_type": "code",
   "execution_count": 5,
   "metadata": {},
   "outputs": [
    {
     "output_type": "execute_result",
     "data": {
      "text/plain": "   totPurchaseAmt                                    mediumImageLink\n0        152000.0  https://photos.zillowstatic.com/p_c/IS1fwt0hhf...\n1        198000.0  https://www.zillowstatic.com/static/images/nop...\n2        130000.0  https://www.zillowstatic.com/static/images/nop...\n3        415000.0  https://photos.zillowstatic.com/p_c/IS72penoji...\n4        329900.0  https://www.zillowstatic.com/static/images/nop...",
      "text/html": "<div>\n<style scoped>\n    .dataframe tbody tr th:only-of-type {\n        vertical-align: middle;\n    }\n\n    .dataframe tbody tr th {\n        vertical-align: top;\n    }\n\n    .dataframe thead th {\n        text-align: right;\n    }\n</style>\n<table border=\"1\" class=\"dataframe\">\n  <thead>\n    <tr style=\"text-align: right;\">\n      <th></th>\n      <th>totPurchaseAmt</th>\n      <th>mediumImageLink</th>\n    </tr>\n  </thead>\n  <tbody>\n    <tr>\n      <th>0</th>\n      <td>152000.0</td>\n      <td>https://photos.zillowstatic.com/p_c/IS1fwt0hhf...</td>\n    </tr>\n    <tr>\n      <th>1</th>\n      <td>198000.0</td>\n      <td>https://www.zillowstatic.com/static/images/nop...</td>\n    </tr>\n    <tr>\n      <th>2</th>\n      <td>130000.0</td>\n      <td>https://www.zillowstatic.com/static/images/nop...</td>\n    </tr>\n    <tr>\n      <th>3</th>\n      <td>415000.0</td>\n      <td>https://photos.zillowstatic.com/p_c/IS72penoji...</td>\n    </tr>\n    <tr>\n      <th>4</th>\n      <td>329900.0</td>\n      <td>https://www.zillowstatic.com/static/images/nop...</td>\n    </tr>\n  </tbody>\n</table>\n</div>"
     },
     "metadata": {},
     "execution_count": 5
    }
   ],
   "source": [
    "data.head()"
   ]
  },
  {
   "cell_type": "code",
   "execution_count": 6,
   "metadata": {},
   "outputs": [],
   "source": [
    "data[\"imgFilepath\"] = \"\""
   ]
  },
  {
   "cell_type": "code",
   "execution_count": 7,
   "metadata": {},
   "outputs": [
    {
     "output_type": "execute_result",
     "data": {
      "text/plain": "   totPurchaseAmt                                    mediumImageLink  \\\n0        152000.0  https://photos.zillowstatic.com/p_c/IS1fwt0hhf...   \n1        198000.0  https://www.zillowstatic.com/static/images/nop...   \n2        130000.0  https://www.zillowstatic.com/static/images/nop...   \n3        415000.0  https://photos.zillowstatic.com/p_c/IS72penoji...   \n4        329900.0  https://www.zillowstatic.com/static/images/nop...   \n\n  imgFilepath  \n0              \n1              \n2              \n3              \n4              ",
      "text/html": "<div>\n<style scoped>\n    .dataframe tbody tr th:only-of-type {\n        vertical-align: middle;\n    }\n\n    .dataframe tbody tr th {\n        vertical-align: top;\n    }\n\n    .dataframe thead th {\n        text-align: right;\n    }\n</style>\n<table border=\"1\" class=\"dataframe\">\n  <thead>\n    <tr style=\"text-align: right;\">\n      <th></th>\n      <th>totPurchaseAmt</th>\n      <th>mediumImageLink</th>\n      <th>imgFilepath</th>\n    </tr>\n  </thead>\n  <tbody>\n    <tr>\n      <th>0</th>\n      <td>152000.0</td>\n      <td>https://photos.zillowstatic.com/p_c/IS1fwt0hhf...</td>\n      <td></td>\n    </tr>\n    <tr>\n      <th>1</th>\n      <td>198000.0</td>\n      <td>https://www.zillowstatic.com/static/images/nop...</td>\n      <td></td>\n    </tr>\n    <tr>\n      <th>2</th>\n      <td>130000.0</td>\n      <td>https://www.zillowstatic.com/static/images/nop...</td>\n      <td></td>\n    </tr>\n    <tr>\n      <th>3</th>\n      <td>415000.0</td>\n      <td>https://photos.zillowstatic.com/p_c/IS72penoji...</td>\n      <td></td>\n    </tr>\n    <tr>\n      <th>4</th>\n      <td>329900.0</td>\n      <td>https://www.zillowstatic.com/static/images/nop...</td>\n      <td></td>\n    </tr>\n  </tbody>\n</table>\n</div>"
     },
     "metadata": {},
     "execution_count": 7
    }
   ],
   "source": [
    "data.head()"
   ]
  },
  {
   "cell_type": "code",
   "execution_count": 8,
   "metadata": {},
   "outputs": [
    {
     "output_type": "execute_result",
     "data": {
      "text/plain": "'https://www.zillowstatic.com/static/images/nophoto_p_c.png'"
     },
     "metadata": {},
     "execution_count": 8
    }
   ],
   "source": [
    "data.at[1, \"mediumImageLink\"]"
   ]
  },
  {
   "cell_type": "code",
   "execution_count": 9,
   "metadata": {},
   "outputs": [
    {
     "output_type": "display_data",
     "data": {
      "text/plain": "HBox(children=(FloatProgress(value=0.0, max=23622.0), HTML(value='')))",
      "application/vnd.jupyter.widget-view+json": {
       "version_major": 2,
       "version_minor": 0,
       "model_id": "ef6e130b2f7b48e0a36e699b2c58f97e"
      }
     },
     "metadata": {}
    },
    {
     "output_type": "stream",
     "name": "stdout",
     "text": "\n"
    }
   ],
   "source": [
    "import requests, os\n",
    "from tqdm import notebook\n",
    "\n",
    "for i, row in notebook.tqdm(data.iterrows(), total=len(data)):\n",
    "    listing = row[\"mediumImageLink\"]\n",
    "#     try:\n",
    "    if listing != 'https://www.zillowstatic.com/static/images/nophoto_p_c.png':\n",
    "        filename = \"images/img_\"+str(i)+\".jpg\"\n",
    "        if not os.path.isfile(filename):\n",
    "            image = requests.get(listing)\n",
    "            open(filename, 'wb').write(image.content)\n",
    "    else:\n",
    "        filename = \"no photo\"\n",
    "#     except:\n",
    "#         filename = \"no photo\"\n",
    "    data.at[i, \"imgFilepath\"] = filename"
   ]
  },
  {
   "cell_type": "code",
   "execution_count": 10,
   "metadata": {},
   "outputs": [
    {
     "output_type": "execute_result",
     "data": {
      "text/plain": "   totPurchaseAmt                                    mediumImageLink  \\\n0        152000.0  https://photos.zillowstatic.com/p_c/IS1fwt0hhf...   \n1        198000.0  https://www.zillowstatic.com/static/images/nop...   \n2        130000.0  https://www.zillowstatic.com/static/images/nop...   \n3        415000.0  https://photos.zillowstatic.com/p_c/IS72penoji...   \n4        329900.0  https://www.zillowstatic.com/static/images/nop...   \n\n        imgFilepath  \n0  images/img_0.jpg  \n1          no photo  \n2          no photo  \n3  images/img_3.jpg  \n4          no photo  ",
      "text/html": "<div>\n<style scoped>\n    .dataframe tbody tr th:only-of-type {\n        vertical-align: middle;\n    }\n\n    .dataframe tbody tr th {\n        vertical-align: top;\n    }\n\n    .dataframe thead th {\n        text-align: right;\n    }\n</style>\n<table border=\"1\" class=\"dataframe\">\n  <thead>\n    <tr style=\"text-align: right;\">\n      <th></th>\n      <th>totPurchaseAmt</th>\n      <th>mediumImageLink</th>\n      <th>imgFilepath</th>\n    </tr>\n  </thead>\n  <tbody>\n    <tr>\n      <th>0</th>\n      <td>152000.0</td>\n      <td>https://photos.zillowstatic.com/p_c/IS1fwt0hhf...</td>\n      <td>images/img_0.jpg</td>\n    </tr>\n    <tr>\n      <th>1</th>\n      <td>198000.0</td>\n      <td>https://www.zillowstatic.com/static/images/nop...</td>\n      <td>no photo</td>\n    </tr>\n    <tr>\n      <th>2</th>\n      <td>130000.0</td>\n      <td>https://www.zillowstatic.com/static/images/nop...</td>\n      <td>no photo</td>\n    </tr>\n    <tr>\n      <th>3</th>\n      <td>415000.0</td>\n      <td>https://photos.zillowstatic.com/p_c/IS72penoji...</td>\n      <td>images/img_3.jpg</td>\n    </tr>\n    <tr>\n      <th>4</th>\n      <td>329900.0</td>\n      <td>https://www.zillowstatic.com/static/images/nop...</td>\n      <td>no photo</td>\n    </tr>\n  </tbody>\n</table>\n</div>"
     },
     "metadata": {},
     "execution_count": 10
    }
   ],
   "source": [
    "data.head()"
   ]
  },
  {
   "cell_type": "code",
   "execution_count": 11,
   "metadata": {},
   "outputs": [],
   "source": [
    "data.to_csv(\"imageFilenames.csv\")"
   ]
  },
  {
   "cell_type": "code",
   "execution_count": 12,
   "metadata": {
    "tags": [
     "outputPrepend",
     "outputPrepend",
     "outputPrepend",
     "outputPrepend",
     "outputPrepend",
     "outputPrepend",
     "outputPrepend",
     "outputPrepend",
     "outputPrepend",
     "outputPrepend",
     "outputPrepend",
     "outputPrepend",
     "outputPrepend",
     "outputPrepend",
     "outputPrepend"
    ]
   },
   "outputs": [
    {
     "output_type": "stream",
     "name": "stdout",
     "text": "Average Height: 234.0\nMax Height: 234\nMin Height: 234\n\n\nAverage Width: 316.0\nMax Width: 316\nMin Width: 316\n"
    }
   ],
   "source": [
    "from PIL import Image\n",
    "import numpy as np\n",
    "import os\n",
    "from random import shuffle\n",
    "import matplotlib.pyplot as plt\n",
    "\n",
    "\n",
    "# Want to know how we should format the height x width image data dimensions\n",
    "# for inputting to a keras model\n",
    "def get_size_statistics(data):\n",
    "    heights = []\n",
    "    widths = []\n",
    "    img_count = 0\n",
    "    for i, row in data.iterrows():\n",
    "        if row[\"imgFilepath\"] != \"no photo\":\n",
    "            try:\n",
    "                imgData = np.array(Image.open(row[\"imgFilepath\"]))\n",
    "                heights.append(imgData.shape[0])\n",
    "                widths.append(imgData.shape[1])\n",
    "                img_count += 1\n",
    "            except:\n",
    "                data.at[i, \"imgFilepath\"] = \"no photo\"\n",
    "    avg_height = sum(heights) / len(heights)\n",
    "    avg_width = sum(widths) / len(widths)\n",
    "    print(\"Average Height: \" + str(avg_height))\n",
    "    print(\"Max Height: \" + str(max(heights)))\n",
    "    print(\"Min Height: \" + str(min(heights)))\n",
    "    print('\\n')\n",
    "    print(\"Average Width: \" + str(avg_width))\n",
    "    print(\"Max Width: \" + str(max(widths)))\n",
    "    print(\"Min Width: \" + str(min(widths)))\n",
    "\n",
    "get_size_statistics(data)"
   ]
  },
  {
   "cell_type": "code",
   "execution_count": null,
   "metadata": {},
   "outputs": [],
   "source": []
  }
 ],
 "metadata": {
  "kernelspec": {
   "display_name": "Python 3.7.3 64-bit ('base': conda)",
   "language": "python",
   "name": "python37364bitbasecondac5e7c4384349446e91eb579ae2633ccb"
  }
 },
 "nbformat": 4,
 "nbformat_minor": 2
}